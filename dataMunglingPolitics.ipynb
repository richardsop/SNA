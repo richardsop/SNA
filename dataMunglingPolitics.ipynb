{
 "cells": [
  {
   "cell_type": "code",
   "execution_count": 2,
   "metadata": {
    "collapsed": true
   },
   "outputs": [],
   "source": [
    "import pandas as pd"
   ]
  },
  {
   "cell_type": "code",
   "execution_count": 56,
   "metadata": {
    "collapsed": false
   },
   "outputs": [],
   "source": [
    "csv = pd.read_csv(\"politicstouseplusdate2.csv\", header=0, quoting=0, delimiter=\",\")"
   ]
  },
  {
   "cell_type": "code",
   "execution_count": 29,
   "metadata": {
    "collapsed": false
   },
   "outputs": [
    {
     "data": {
      "text/plain": [
       "(219932, 5)"
      ]
     },
     "execution_count": 29,
     "metadata": {},
     "output_type": "execute_result"
    }
   ],
   "source": [
    "csv.shape"
   ]
  },
  {
   "cell_type": "code",
   "execution_count": 21,
   "metadata": {
    "collapsed": false
   },
   "outputs": [
    {
     "data": {
      "text/html": [
       "<div style=\"max-height:1000px;max-width:1500px;overflow:auto;\">\n",
       "<table border=\"1\" class=\"dataframe\">\n",
       "  <thead>\n",
       "    <tr style=\"text-align: right;\">\n",
       "      <th></th>\n",
       "      <th>Indegree</th>\n",
       "      <th>Message</th>\n",
       "      <th>Outdegree</th>\n",
       "      <th>Sentiment</th>\n",
       "      <th>Date_time</th>\n",
       "    </tr>\n",
       "  </thead>\n",
       "  <tbody>\n",
       "    <tr>\n",
       "      <th>224226</th>\n",
       "      <td>Omid_M</td>\n",
       "      <td>-&lt;-My piece about the IRGC and Irans Economy:...</td>\n",
       "      <td>iranpr</td>\n",
       "      <td>0</td>\n",
       "      <td>209-12-31</td>\n",
       "    </tr>\n",
       "    <tr>\n",
       "      <th>224227</th>\n",
       "      <td>JanSimpson</td>\n",
       "      <td>Profiling inded works; conservatives profiled...</td>\n",
       "      <td>katyinindy</td>\n",
       "      <td>0</td>\n",
       "      <td>209-12-31</td>\n",
       "    </tr>\n",
       "    <tr>\n",
       "      <th>224228</th>\n",
       "      <td>jilevin</td>\n",
       "      <td>I stand by my vote. Obama's not the problem. ...</td>\n",
       "      <td>carolaninwv</td>\n",
       "      <td>4</td>\n",
       "      <td>209-12-31</td>\n",
       "    </tr>\n",
       "    <tr>\n",
       "      <th>224229</th>\n",
       "      <td>cn</td>\n",
       "      <td>Hm. Best (er, worst) of 209: Obama cult educat...</td>\n",
       "      <td>dncdudes</td>\n",
       "      <td>0</td>\n",
       "      <td>209-12-31</td>\n",
       "    </tr>\n",
       "    <tr>\n",
       "      <th>224230</th>\n",
       "      <td>adthis</td>\n",
       "      <td>Music Video for #Iran #Iranelection Abjez: Man...</td>\n",
       "      <td>leilasadeghi</td>\n",
       "      <td>0</td>\n",
       "      <td>209-12-31</td>\n",
       "    </tr>\n",
       "  </tbody>\n",
       "</table>\n",
       "</div>"
      ],
      "text/plain": [
       "          Indegree                                            Message  \\\n",
       "224226      Omid_M   -<-My piece about the IRGC and Irans Economy:...   \n",
       "224227  JanSimpson   Profiling inded works; conservatives profiled...   \n",
       "224228     jilevin   I stand by my vote. Obama's not the problem. ...   \n",
       "224229          cn  Hm. Best (er, worst) of 209: Obama cult educat...   \n",
       "224230      adthis  Music Video for #Iran #Iranelection Abjez: Man...   \n",
       "\n",
       "           Outdegree Sentiment  Date_time  \n",
       "224226        iranpr         0  209-12-31  \n",
       "224227    katyinindy         0  209-12-31  \n",
       "224228   carolaninwv         4  209-12-31  \n",
       "224229      dncdudes         0  209-12-31  \n",
       "224230  leilasadeghi         0  209-12-31  "
      ]
     },
     "execution_count": 21,
     "metadata": {},
     "output_type": "execute_result"
    }
   ],
   "source": [
    "csv.tail()"
   ]
  },
  {
   "cell_type": "code",
   "execution_count": 31,
   "metadata": {
    "collapsed": false
   },
   "outputs": [],
   "source": [
    "dec = csv.loc[csv['Date_time'].str.contains(\"209-12-\")]"
   ]
  },
  {
   "cell_type": "code",
   "execution_count": 33,
   "metadata": {
    "collapsed": false
   },
   "outputs": [
    {
     "data": {
      "text/html": [
       "<div style=\"max-height:1000px;max-width:1500px;overflow:auto;\">\n",
       "<table border=\"1\" class=\"dataframe\">\n",
       "  <thead>\n",
       "    <tr style=\"text-align: right;\">\n",
       "      <th></th>\n",
       "      <th>Indegree</th>\n",
       "      <th>Message</th>\n",
       "      <th>Outdegree</th>\n",
       "      <th>Sentiment</th>\n",
       "      <th>Date_time</th>\n",
       "    </tr>\n",
       "  </thead>\n",
       "  <tbody>\n",
       "    <tr>\n",
       "      <th>208240</th>\n",
       "      <td>jamaicanmami</td>\n",
       "      <td>yes man he was the hope for black pl 2realy l...</td>\n",
       "      <td>popa2smoth</td>\n",
       "      <td>0</td>\n",
       "      <td>209-12-01</td>\n",
       "    </tr>\n",
       "    <tr>\n",
       "      <th>208241</th>\n",
       "      <td>twetcongres</td>\n",
       "      <td>your Right it could be aplied to almost any f...</td>\n",
       "      <td>bunyramey</td>\n",
       "      <td>0</td>\n",
       "      <td>209-12-01</td>\n",
       "    </tr>\n",
       "    <tr>\n",
       "      <th>208242</th>\n",
       "      <td>NewsBusters</td>\n",
       "      <td>: NYT Isues 1,0 Gushing Words on Obama's 'Gli...</td>\n",
       "      <td>co2hog</td>\n",
       "      <td>4</td>\n",
       "      <td>209-12-01</td>\n",
       "    </tr>\n",
       "    <tr>\n",
       "      <th>208243</th>\n",
       "      <td>liberalchick230</td>\n",
       "      <td>I would not agre that Obama's first year has ...</td>\n",
       "      <td>meanderingsoul</td>\n",
       "      <td>4</td>\n",
       "      <td>209-12-01</td>\n",
       "    </tr>\n",
       "    <tr>\n",
       "      <th>208244</th>\n",
       "      <td>Sonja_Jo)</td>\n",
       "      <td>URGENT: FRE KIAN 209 [Sign the Petition] + vid...</td>\n",
       "      <td>persia_max_news</td>\n",
       "      <td>0</td>\n",
       "      <td>209-12-01</td>\n",
       "    </tr>\n",
       "  </tbody>\n",
       "</table>\n",
       "</div>"
      ],
      "text/plain": [
       "               Indegree                                            Message  \\\n",
       "208240     jamaicanmami   yes man he was the hope for black pl 2realy l...   \n",
       "208241      twetcongres   your Right it could be aplied to almost any f...   \n",
       "208242      NewsBusters   : NYT Isues 1,0 Gushing Words on Obama's 'Gli...   \n",
       "208243  liberalchick230   I would not agre that Obama's first year has ...   \n",
       "208244        Sonja_Jo)  URGENT: FRE KIAN 209 [Sign the Petition] + vid...   \n",
       "\n",
       "              Outdegree Sentiment  Date_time  \n",
       "208240       popa2smoth         0  209-12-01  \n",
       "208241        bunyramey         0  209-12-01  \n",
       "208242           co2hog         4  209-12-01  \n",
       "208243   meanderingsoul         4  209-12-01  \n",
       "208244  persia_max_news         0  209-12-01  "
      ]
     },
     "execution_count": 33,
     "metadata": {},
     "output_type": "execute_result"
    }
   ],
   "source": [
    "dec.head()"
   ]
  },
  {
   "cell_type": "code",
   "execution_count": 35,
   "metadata": {
    "collapsed": false
   },
   "outputs": [],
   "source": [
    "t = dec.groupby(\"Outdegree\").size()"
   ]
  },
  {
   "cell_type": "code",
   "execution_count": 43,
   "metadata": {
    "collapsed": false
   },
   "outputs": [],
   "source": [
    "s= t[t>=6]"
   ]
  },
  {
   "cell_type": "code",
   "execution_count": 49,
   "metadata": {
    "collapsed": false
   },
   "outputs": [],
   "source": [
    "s.to_csv(\"politicsoutdegreegreaterthan6.csv\")"
   ]
  },
  {
   "cell_type": "code",
   "execution_count": 51,
   "metadata": {
    "collapsed": false
   },
   "outputs": [],
   "source": [
    "t = pd.read_csv(\"politicsoutdegreegreaterthan6.csv\", header=0, quoting=0, delimiter=\",\", error_bad_lines=False)"
   ]
  },
  {
   "cell_type": "code",
   "execution_count": 53,
   "metadata": {
    "collapsed": false
   },
   "outputs": [
    {
     "data": {
      "text/html": [
       "<div style=\"max-height:1000px;max-width:1500px;overflow:auto;\">\n",
       "<table border=\"1\" class=\"dataframe\">\n",
       "  <thead>\n",
       "    <tr style=\"text-align: right;\">\n",
       "      <th></th>\n",
       "      <th>Outdegree</th>\n",
       "      <th>Frequency</th>\n",
       "    </tr>\n",
       "  </thead>\n",
       "  <tbody>\n",
       "    <tr>\n",
       "      <th>0</th>\n",
       "      <td>0402sgrl</td>\n",
       "      <td>67</td>\n",
       "    </tr>\n",
       "    <tr>\n",
       "      <th>1</th>\n",
       "      <td>1hotitalian</td>\n",
       "      <td>44</td>\n",
       "    </tr>\n",
       "    <tr>\n",
       "      <th>2</th>\n",
       "      <td>2bluestarmom</td>\n",
       "      <td>19</td>\n",
       "    </tr>\n",
       "    <tr>\n",
       "      <th>3</th>\n",
       "      <td>3fatcats</td>\n",
       "      <td>9</td>\n",
       "    </tr>\n",
       "    <tr>\n",
       "      <th>4</th>\n",
       "      <td>4row</td>\n",
       "      <td>9</td>\n",
       "    </tr>\n",
       "  </tbody>\n",
       "</table>\n",
       "</div>"
      ],
      "text/plain": [
       "      Outdegree  Frequency\n",
       "0      0402sgrl         67\n",
       "1   1hotitalian         44\n",
       "2  2bluestarmom         19\n",
       "3      3fatcats          9\n",
       "4          4row          9"
      ]
     },
     "execution_count": 53,
     "metadata": {},
     "output_type": "execute_result"
    }
   ],
   "source": [
    "t.head()"
   ]
  },
  {
   "cell_type": "code",
   "execution_count": 58,
   "metadata": {
    "collapsed": false
   },
   "outputs": [],
   "source": [
    "j =t.Outdegree"
   ]
  },
  {
   "cell_type": "code",
   "execution_count": 60,
   "metadata": {
    "collapsed": false
   },
   "outputs": [],
   "source": [
    "k= j.tolist()"
   ]
  },
  {
   "cell_type": "code",
   "execution_count": 61,
   "metadata": {
    "collapsed": true
   },
   "outputs": [],
   "source": [
    "re = csv.loc[csv['Indegree'].isin(k)]"
   ]
  },
  {
   "cell_type": "code",
   "execution_count": 63,
   "metadata": {
    "collapsed": false
   },
   "outputs": [
    {
     "data": {
      "text/plain": [
       "(8035, 5)"
      ]
     },
     "execution_count": 63,
     "metadata": {},
     "output_type": "execute_result"
    }
   ],
   "source": [
    "re.shape"
   ]
  },
  {
   "cell_type": "code",
   "execution_count": null,
   "metadata": {
    "collapsed": true
   },
   "outputs": [],
   "source": []
  },
  {
   "cell_type": "code",
   "execution_count": null,
   "metadata": {
    "collapsed": true
   },
   "outputs": [],
   "source": []
  },
  {
   "cell_type": "code",
   "execution_count": null,
   "metadata": {
    "collapsed": true
   },
   "outputs": [],
   "source": []
  },
  {
   "cell_type": "code",
   "execution_count": null,
   "metadata": {
    "collapsed": true
   },
   "outputs": [],
   "source": []
  },
  {
   "cell_type": "code",
   "execution_count": null,
   "metadata": {
    "collapsed": true
   },
   "outputs": [],
   "source": []
  }
 ],
 "metadata": {
  "kernelspec": {
   "display_name": "Python 2",
   "language": "python",
   "name": "python2"
  },
  "language_info": {
   "codemirror_mode": {
    "name": "ipython",
    "version": 2
   },
   "file_extension": ".py",
   "mimetype": "text/x-python",
   "name": "python",
   "nbconvert_exporter": "python",
   "pygments_lexer": "ipython2",
   "version": "2.7.10"
  }
 },
 "nbformat": 4,
 "nbformat_minor": 0
}
