{
 "cells": [
  {
   "cell_type": "code",
   "execution_count": 5,
   "metadata": {
    "collapsed": true
   },
   "outputs": [],
   "source": [
    "import pandas as pd"
   ]
  },
  {
   "cell_type": "code",
   "execution_count": 6,
   "metadata": {
    "collapsed": false
   },
   "outputs": [],
   "source": [
    "#read csv file\n",
    "dataP = pd.read_csv(\"politicsDataset.csv\", header=0, quoting=0, delimiter=\",\")"
   ]
  },
  {
   "cell_type": "code",
   "execution_count": 7,
   "metadata": {
    "collapsed": false
   },
   "outputs": [
    {
     "data": {
      "text/plain": [
       "(219932, 5)"
      ]
     },
     "execution_count": 7,
     "metadata": {},
     "output_type": "execute_result"
    }
   ],
   "source": [
    "#dimension of data\n",
    "dataP.shape"
   ]
  },
  {
   "cell_type": "code",
   "execution_count": 8,
   "metadata": {
    "collapsed": false
   },
   "outputs": [
    {
     "data": {
      "text/html": [
       "<div style=\"max-height:1000px;max-width:1500px;overflow:auto;\">\n",
       "<table border=\"1\" class=\"dataframe\">\n",
       "  <thead>\n",
       "    <tr style=\"text-align: right;\">\n",
       "      <th></th>\n",
       "      <th>Indegree</th>\n",
       "      <th>Message</th>\n",
       "      <th>Outdegree</th>\n",
       "      <th>Sentiment</th>\n",
       "      <th>Date_time</th>\n",
       "    </tr>\n",
       "  </thead>\n",
       "  <tbody>\n",
       "    <tr>\n",
       "      <th>0</th>\n",
       "      <td>rodgerma)</td>\n",
       "      <td>Did you hear about this guy praying to his god...</td>\n",
       "      <td>tergiversant</td>\n",
       "      <td>4</td>\n",
       "      <td>2009-06-1</td>\n",
       "    </tr>\n",
       "    <tr>\n",
       "      <th>1</th>\n",
       "      <td>BOTelemprompter</td>\n",
       "      <td>has a busy, busy day. How does it fel to fil ...</td>\n",
       "      <td>youvegotamy</td>\n",
       "      <td>4</td>\n",
       "      <td>2009-06-1</td>\n",
       "    </tr>\n",
       "    <tr>\n",
       "      <th>2</th>\n",
       "      <td>majoratWH</td>\n",
       "      <td>let me gues, a healthcare photo op, with no s...</td>\n",
       "      <td>jumpin_jac</td>\n",
       "      <td>4</td>\n",
       "      <td>2009-06-1</td>\n",
       "    </tr>\n",
       "    <tr>\n",
       "      <th>3</th>\n",
       "      <td>MedicalVilage)</td>\n",
       "      <td>Dr. Crow: Did you know 5% of your employes cos...</td>\n",
       "      <td>vhpdocs</td>\n",
       "      <td>0</td>\n",
       "      <td>2009-06-1</td>\n",
       "    </tr>\n",
       "    <tr>\n",
       "      <th>4</th>\n",
       "      <td>msnbc:</td>\n",
       "      <td>Obama's pastor. He has bad timing! It wil tie ...</td>\n",
       "      <td>todgrich</td>\n",
       "      <td>0</td>\n",
       "      <td>2009-06-1</td>\n",
       "    </tr>\n",
       "  </tbody>\n",
       "</table>\n",
       "</div>"
      ],
      "text/plain": [
       "          Indegree                                            Message  \\\n",
       "0        rodgerma)  Did you hear about this guy praying to his god...   \n",
       "1  BOTelemprompter   has a busy, busy day. How does it fel to fil ...   \n",
       "2        majoratWH   let me gues, a healthcare photo op, with no s...   \n",
       "3   MedicalVilage)  Dr. Crow: Did you know 5% of your employes cos...   \n",
       "4           msnbc:  Obama's pastor. He has bad timing! It wil tie ...   \n",
       "\n",
       "      Outdegree Sentiment  Date_time  \n",
       "0  tergiversant         4  2009-06-1  \n",
       "1   youvegotamy         4  2009-06-1  \n",
       "2    jumpin_jac         4  2009-06-1  \n",
       "3       vhpdocs         0  2009-06-1  \n",
       "4      todgrich         0  2009-06-1  "
      ]
     },
     "execution_count": 8,
     "metadata": {},
     "output_type": "execute_result"
    }
   ],
   "source": [
    "#first 5 rows of data\n",
    "dataP.head()"
   ]
  },
  {
   "cell_type": "code",
   "execution_count": 9,
   "metadata": {
    "collapsed": false
   },
   "outputs": [
    {
     "data": {
      "text/html": [
       "<div style=\"max-height:1000px;max-width:1500px;overflow:auto;\">\n",
       "<table border=\"1\" class=\"dataframe\">\n",
       "  <thead>\n",
       "    <tr style=\"text-align: right;\">\n",
       "      <th></th>\n",
       "      <th>Indegree</th>\n",
       "      <th>Message</th>\n",
       "      <th>Outdegree</th>\n",
       "      <th>Sentiment</th>\n",
       "      <th>Date_time</th>\n",
       "    </tr>\n",
       "  </thead>\n",
       "  <tbody>\n",
       "    <tr>\n",
       "      <th>219927</th>\n",
       "      <td>Omid_M</td>\n",
       "      <td>-&lt;-My piece about the IRGC and Irans Economy:...</td>\n",
       "      <td>iranpr</td>\n",
       "      <td>0</td>\n",
       "      <td>2009-12-31</td>\n",
       "    </tr>\n",
       "    <tr>\n",
       "      <th>219928</th>\n",
       "      <td>JanSimpson</td>\n",
       "      <td>Profiling inded works; conservatives profiled...</td>\n",
       "      <td>katyinindy</td>\n",
       "      <td>0</td>\n",
       "      <td>2009-12-31</td>\n",
       "    </tr>\n",
       "    <tr>\n",
       "      <th>219929</th>\n",
       "      <td>jilevin</td>\n",
       "      <td>I stand by my vote. Obama's not the problem. ...</td>\n",
       "      <td>carolaninwv</td>\n",
       "      <td>4</td>\n",
       "      <td>2009-12-31</td>\n",
       "    </tr>\n",
       "    <tr>\n",
       "      <th>219930</th>\n",
       "      <td>cn</td>\n",
       "      <td>Hm. Best (er, worst) of 209: Obama cult educat...</td>\n",
       "      <td>dncdudes</td>\n",
       "      <td>0</td>\n",
       "      <td>2009-12-31</td>\n",
       "    </tr>\n",
       "    <tr>\n",
       "      <th>219931</th>\n",
       "      <td>adthis</td>\n",
       "      <td>Music Video for #Iran #Iranelection Abjez: Man...</td>\n",
       "      <td>leilasadeghi</td>\n",
       "      <td>0</td>\n",
       "      <td>2009-12-31</td>\n",
       "    </tr>\n",
       "  </tbody>\n",
       "</table>\n",
       "</div>"
      ],
      "text/plain": [
       "          Indegree                                            Message  \\\n",
       "219927      Omid_M   -<-My piece about the IRGC and Irans Economy:...   \n",
       "219928  JanSimpson   Profiling inded works; conservatives profiled...   \n",
       "219929     jilevin   I stand by my vote. Obama's not the problem. ...   \n",
       "219930          cn  Hm. Best (er, worst) of 209: Obama cult educat...   \n",
       "219931      adthis  Music Video for #Iran #Iranelection Abjez: Man...   \n",
       "\n",
       "           Outdegree Sentiment   Date_time  \n",
       "219927        iranpr         0  2009-12-31  \n",
       "219928    katyinindy         0  2009-12-31  \n",
       "219929   carolaninwv         4  2009-12-31  \n",
       "219930      dncdudes         0  2009-12-31  \n",
       "219931  leilasadeghi         0  2009-12-31  "
      ]
     },
     "execution_count": 9,
     "metadata": {},
     "output_type": "execute_result"
    }
   ],
   "source": [
    "#last 5 rows of data\n",
    "dataP.tail()"
   ]
  },
  {
   "cell_type": "code",
   "execution_count": 10,
   "metadata": {
    "collapsed": false
   },
   "outputs": [],
   "source": [
    "#select all rows from date_time column that starts with \"2009-12-\"\n",
    "dec = dataP.loc[dataP['Date_time'].str.contains(\"2009-12-\")]"
   ]
  },
  {
   "cell_type": "code",
   "execution_count": 11,
   "metadata": {
    "collapsed": false
   },
   "outputs": [
    {
     "data": {
      "text/html": [
       "<div style=\"max-height:1000px;max-width:1500px;overflow:auto;\">\n",
       "<table border=\"1\" class=\"dataframe\">\n",
       "  <thead>\n",
       "    <tr style=\"text-align: right;\">\n",
       "      <th></th>\n",
       "      <th>Indegree</th>\n",
       "      <th>Message</th>\n",
       "      <th>Outdegree</th>\n",
       "      <th>Sentiment</th>\n",
       "      <th>Date_time</th>\n",
       "    </tr>\n",
       "  </thead>\n",
       "  <tbody>\n",
       "    <tr>\n",
       "      <th>204111</th>\n",
       "      <td>jamaicanmami</td>\n",
       "      <td>yes man he was the hope for black pl 2realy l...</td>\n",
       "      <td>popa2smoth</td>\n",
       "      <td>0</td>\n",
       "      <td>2009-12-01</td>\n",
       "    </tr>\n",
       "    <tr>\n",
       "      <th>204112</th>\n",
       "      <td>twetcongres</td>\n",
       "      <td>your Right it could be aplied to almost any f...</td>\n",
       "      <td>bunyramey</td>\n",
       "      <td>0</td>\n",
       "      <td>2009-12-01</td>\n",
       "    </tr>\n",
       "    <tr>\n",
       "      <th>204113</th>\n",
       "      <td>NewsBusters</td>\n",
       "      <td>: NYT Isues 1,0 Gushing Words on Obama's 'Gli...</td>\n",
       "      <td>co2hog</td>\n",
       "      <td>4</td>\n",
       "      <td>2009-12-01</td>\n",
       "    </tr>\n",
       "    <tr>\n",
       "      <th>204114</th>\n",
       "      <td>liberalchick230</td>\n",
       "      <td>I would not agre that Obama's first year has ...</td>\n",
       "      <td>meanderingsoul</td>\n",
       "      <td>4</td>\n",
       "      <td>2009-12-01</td>\n",
       "    </tr>\n",
       "    <tr>\n",
       "      <th>204115</th>\n",
       "      <td>Sonja_Jo)</td>\n",
       "      <td>URGENT: FRE KIAN 209 [Sign the Petition] + vid...</td>\n",
       "      <td>persia_max_news</td>\n",
       "      <td>0</td>\n",
       "      <td>2009-12-01</td>\n",
       "    </tr>\n",
       "  </tbody>\n",
       "</table>\n",
       "</div>"
      ],
      "text/plain": [
       "               Indegree                                            Message  \\\n",
       "204111     jamaicanmami   yes man he was the hope for black pl 2realy l...   \n",
       "204112      twetcongres   your Right it could be aplied to almost any f...   \n",
       "204113      NewsBusters   : NYT Isues 1,0 Gushing Words on Obama's 'Gli...   \n",
       "204114  liberalchick230   I would not agre that Obama's first year has ...   \n",
       "204115        Sonja_Jo)  URGENT: FRE KIAN 209 [Sign the Petition] + vid...   \n",
       "\n",
       "              Outdegree Sentiment   Date_time  \n",
       "204111       popa2smoth         0  2009-12-01  \n",
       "204112        bunyramey         0  2009-12-01  \n",
       "204113           co2hog         4  2009-12-01  \n",
       "204114   meanderingsoul         4  2009-12-01  \n",
       "204115  persia_max_news         0  2009-12-01  "
      ]
     },
     "execution_count": 11,
     "metadata": {},
     "output_type": "execute_result"
    }
   ],
   "source": [
    "#first 5 rows of data\n",
    "dec.head()"
   ]
  },
  {
   "cell_type": "code",
   "execution_count": 62,
   "metadata": {
    "collapsed": false
   },
   "outputs": [],
   "source": [
    "#group the data-set by outdegree coloumn by the size to a new dataframe\n",
    "t = dec.groupby(\"Outdegree\").size()"
   ]
  },
  {
   "cell_type": "code",
   "execution_count": 63,
   "metadata": {
    "collapsed": false
   },
   "outputs": [
    {
     "data": {
      "text/plain": [
       "Outdegree\n",
       "0402sgrl      67\n",
       "04bluepony     1\n",
       "0x4            1\n",
       "dtype: int64"
      ]
     },
     "execution_count": 63,
     "metadata": {},
     "output_type": "execute_result"
    }
   ],
   "source": [
    "# first three values of data\n",
    "t[:3]"
   ]
  },
  {
   "cell_type": "code",
   "execution_count": 64,
   "metadata": {
    "collapsed": false
   },
   "outputs": [],
   "source": [
    "#select/filter all users with a conversation greater than or equal to 6\n",
    "s= t[t>=2]"
   ]
  },
  {
   "cell_type": "code",
   "execution_count": 65,
   "metadata": {
    "collapsed": false
   },
   "outputs": [
    {
     "data": {
      "text/plain": [
       "Outdegree\n",
       "0402sgrl     67\n",
       "14gotit       2\n",
       "15th_imam     3\n",
       "dtype: int64"
      ]
     },
     "execution_count": 65,
     "metadata": {},
     "output_type": "execute_result"
    }
   ],
   "source": [
    "# first three values of data\n",
    "s[:3]"
   ]
  },
  {
   "cell_type": "code",
   "execution_count": 41,
   "metadata": {
    "collapsed": false
   },
   "outputs": [],
   "source": [
    "s.to_csv(\"politicsoutdegreegreaterthan2.csv\")"
   ]
  },
  {
   "cell_type": "code",
   "execution_count": 42,
   "metadata": {
    "collapsed": false
   },
   "outputs": [],
   "source": [
    "t = pd.read_csv(\"politicsoutdegreegreaterthan2.csv\", header=0, quoting=0, delimiter=\",\", error_bad_lines=False)"
   ]
  },
  {
   "cell_type": "code",
   "execution_count": 43,
   "metadata": {
    "collapsed": false
   },
   "outputs": [
    {
     "data": {
      "text/html": [
       "<div style=\"max-height:1000px;max-width:1500px;overflow:auto;\">\n",
       "<table border=\"1\" class=\"dataframe\">\n",
       "  <thead>\n",
       "    <tr style=\"text-align: right;\">\n",
       "      <th></th>\n",
       "      <th>Outdegree</th>\n",
       "      <th>Freq</th>\n",
       "    </tr>\n",
       "  </thead>\n",
       "  <tbody>\n",
       "    <tr>\n",
       "      <th>0</th>\n",
       "      <td>0402sgrl</td>\n",
       "      <td>67</td>\n",
       "    </tr>\n",
       "    <tr>\n",
       "      <th>1</th>\n",
       "      <td>14gotit</td>\n",
       "      <td>2</td>\n",
       "    </tr>\n",
       "    <tr>\n",
       "      <th>2</th>\n",
       "      <td>15th_imam</td>\n",
       "      <td>3</td>\n",
       "    </tr>\n",
       "    <tr>\n",
       "      <th>3</th>\n",
       "      <td>1ecgoinguy</td>\n",
       "      <td>4</td>\n",
       "    </tr>\n",
       "    <tr>\n",
       "      <th>4</th>\n",
       "      <td>1honestamerican</td>\n",
       "      <td>2</td>\n",
       "    </tr>\n",
       "  </tbody>\n",
       "</table>\n",
       "</div>"
      ],
      "text/plain": [
       "         Outdegree  Freq\n",
       "0         0402sgrl    67\n",
       "1          14gotit     2\n",
       "2        15th_imam     3\n",
       "3       1ecgoinguy     4\n",
       "4  1honestamerican     2"
      ]
     },
     "execution_count": 43,
     "metadata": {},
     "output_type": "execute_result"
    }
   ],
   "source": [
    "#first 5 columns of selected conversation of a threshold of 6\n",
    "t.head()"
   ]
  },
  {
   "cell_type": "code",
   "execution_count": null,
   "metadata": {
    "collapsed": true
   },
   "outputs": [],
   "source": []
  },
  {
   "cell_type": "code",
   "execution_count": 44,
   "metadata": {
    "collapsed": false
   },
   "outputs": [],
   "source": [
    "#convert the column outdegree to series\n",
    "j =t.Outdegree"
   ]
  },
  {
   "cell_type": "code",
   "execution_count": 58,
   "metadata": {
    "collapsed": false
   },
   "outputs": [
    {
     "data": {
      "text/plain": [
       "0     0402sgrl\n",
       "1      14gotit\n",
       "2    15th_imam\n",
       "Name: Outdegree, dtype: object"
      ]
     },
     "execution_count": 58,
     "metadata": {},
     "output_type": "execute_result"
    }
   ],
   "source": [
    "# first three values of outdegree\n",
    "j[:3]"
   ]
  },
  {
   "cell_type": "code",
   "execution_count": 45,
   "metadata": {
    "collapsed": false
   },
   "outputs": [],
   "source": [
    "# convert series data-set to a list\n",
    "k= j.tolist()"
   ]
  },
  {
   "cell_type": "code",
   "execution_count": 59,
   "metadata": {
    "collapsed": false
   },
   "outputs": [
    {
     "data": {
      "text/plain": [
       "['0402sgrl', '14gotit', '15th_imam']"
      ]
     },
     "execution_count": 59,
     "metadata": {},
     "output_type": "execute_result"
    }
   ],
   "source": [
    "# first three values of list\n",
    "k[:3]"
   ]
  },
  {
   "cell_type": "code",
   "execution_count": 46,
   "metadata": {
    "collapsed": true
   },
   "outputs": [],
   "source": [
    "#select all rows that outdegree that has users that is on list in k\n",
    "re = dataP.loc[dataP['Outdegree'].isin(k)]"
   ]
  },
  {
   "cell_type": "code",
   "execution_count": 47,
   "metadata": {
    "collapsed": false
   },
   "outputs": [
    {
     "data": {
      "text/plain": [
       "(52401, 5)"
      ]
     },
     "execution_count": 47,
     "metadata": {},
     "output_type": "execute_result"
    }
   ],
   "source": [
    "#shape of the filtered dataset\n",
    "re.shape"
   ]
  },
  {
   "cell_type": "code",
   "execution_count": 48,
   "metadata": {
    "collapsed": false
   },
   "outputs": [
    {
     "data": {
      "text/html": [
       "<div style=\"max-height:1000px;max-width:1500px;overflow:auto;\">\n",
       "<table border=\"1\" class=\"dataframe\">\n",
       "  <thead>\n",
       "    <tr style=\"text-align: right;\">\n",
       "      <th></th>\n",
       "      <th>Indegree</th>\n",
       "      <th>Message</th>\n",
       "      <th>Outdegree</th>\n",
       "      <th>Sentiment</th>\n",
       "      <th>Date_time</th>\n",
       "    </tr>\n",
       "  </thead>\n",
       "  <tbody>\n",
       "    <tr>\n",
       "      <th>8</th>\n",
       "      <td>PoliticsLeft)</td>\n",
       "      <td>Obama Health Care Push Goes On The Road URL (v...</td>\n",
       "      <td>tm_lifestyle</td>\n",
       "      <td>4</td>\n",
       "      <td>2009-06-1</td>\n",
       "    </tr>\n",
       "    <tr>\n",
       "      <th>27</th>\n",
       "      <td>jaketaper</td>\n",
       "      <td>did anyone ask Obama about this obesity item ...</td>\n",
       "      <td>theanchores</td>\n",
       "      <td>4</td>\n",
       "      <td>2009-06-1</td>\n",
       "    </tr>\n",
       "    <tr>\n",
       "      <th>33</th>\n",
       "      <td>GStephanopoulos)</td>\n",
       "      <td>Ahmadinejad: \"The Future is Promising.\" Realy?...</td>\n",
       "      <td>pmoalemian</td>\n",
       "      <td>4</td>\n",
       "      <td>2009-06-1</td>\n",
       "    </tr>\n",
       "    <tr>\n",
       "      <th>54</th>\n",
       "      <td>BarackObama</td>\n",
       "      <td>Obama, you're a socialist, you fit the defini...</td>\n",
       "      <td>obamabenlying</td>\n",
       "      <td>4</td>\n",
       "      <td>2009-06-1</td>\n",
       "    </tr>\n",
       "    <tr>\n",
       "      <th>55</th>\n",
       "      <td>Whitehouse</td>\n",
       "      <td>Obama, you're a socialist, you fit the defini...</td>\n",
       "      <td>obamabenlying</td>\n",
       "      <td>4</td>\n",
       "      <td>2009-06-1</td>\n",
       "    </tr>\n",
       "  </tbody>\n",
       "</table>\n",
       "</div>"
      ],
      "text/plain": [
       "            Indegree                                            Message  \\\n",
       "8      PoliticsLeft)  Obama Health Care Push Goes On The Road URL (v...   \n",
       "27         jaketaper   did anyone ask Obama about this obesity item ...   \n",
       "33  GStephanopoulos)  Ahmadinejad: \"The Future is Promising.\" Realy?...   \n",
       "54       BarackObama   Obama, you're a socialist, you fit the defini...   \n",
       "55        Whitehouse   Obama, you're a socialist, you fit the defini...   \n",
       "\n",
       "        Outdegree Sentiment  Date_time  \n",
       "8    tm_lifestyle         4  2009-06-1  \n",
       "27    theanchores         4  2009-06-1  \n",
       "33     pmoalemian         4  2009-06-1  \n",
       "54  obamabenlying         4  2009-06-1  \n",
       "55  obamabenlying         4  2009-06-1  "
      ]
     },
     "execution_count": 48,
     "metadata": {},
     "output_type": "execute_result"
    }
   ],
   "source": [
    "#first 5 rows of filtered dataset\n",
    "re.head()"
   ]
  },
  {
   "cell_type": "code",
   "execution_count": null,
   "metadata": {
    "collapsed": true
   },
   "outputs": [],
   "source": []
  },
  {
   "cell_type": "code",
   "execution_count": 49,
   "metadata": {
    "collapsed": true
   },
   "outputs": [],
   "source": [
    "\"\"\"\" from the threshold dataset of users with conversations greater than 6, filter all rows in date_time that contains \n",
    "#2009-120\"\"\"\n",
    "\n",
    "indegr = re.loc[re['Date_time'].str.contains(\"2009-12-\")]"
   ]
  },
  {
   "cell_type": "code",
   "execution_count": 50,
   "metadata": {
    "collapsed": false
   },
   "outputs": [
    {
     "data": {
      "text/html": [
       "<div style=\"max-height:1000px;max-width:1500px;overflow:auto;\">\n",
       "<table border=\"1\" class=\"dataframe\">\n",
       "  <thead>\n",
       "    <tr style=\"text-align: right;\">\n",
       "      <th></th>\n",
       "      <th>Indegree</th>\n",
       "      <th>Message</th>\n",
       "      <th>Outdegree</th>\n",
       "      <th>Sentiment</th>\n",
       "      <th>Date_time</th>\n",
       "    </tr>\n",
       "  </thead>\n",
       "  <tbody>\n",
       "    <tr>\n",
       "      <th>204112</th>\n",
       "      <td>twetcongres</td>\n",
       "      <td>your Right it could be aplied to almost any f...</td>\n",
       "      <td>bunyramey</td>\n",
       "      <td>0</td>\n",
       "      <td>2009-12-01</td>\n",
       "    </tr>\n",
       "    <tr>\n",
       "      <th>204113</th>\n",
       "      <td>NewsBusters</td>\n",
       "      <td>: NYT Isues 1,0 Gushing Words on Obama's 'Gli...</td>\n",
       "      <td>co2hog</td>\n",
       "      <td>4</td>\n",
       "      <td>2009-12-01</td>\n",
       "    </tr>\n",
       "    <tr>\n",
       "      <th>204114</th>\n",
       "      <td>liberalchick230</td>\n",
       "      <td>I would not agre that Obama's first year has ...</td>\n",
       "      <td>meanderingsoul</td>\n",
       "      <td>4</td>\n",
       "      <td>2009-12-01</td>\n",
       "    </tr>\n",
       "    <tr>\n",
       "      <th>204115</th>\n",
       "      <td>Sonja_Jo)</td>\n",
       "      <td>URGENT: FRE KIAN 209 [Sign the Petition] + vid...</td>\n",
       "      <td>persia_max_news</td>\n",
       "      <td>0</td>\n",
       "      <td>2009-12-01</td>\n",
       "    </tr>\n",
       "    <tr>\n",
       "      <th>204117</th>\n",
       "      <td>franosch)</td>\n",
       "      <td>NYTimes: Snr Cleric Montazeri Denounces #Iran ...</td>\n",
       "      <td>magicspin</td>\n",
       "      <td>0</td>\n",
       "      <td>2009-12-01</td>\n",
       "    </tr>\n",
       "  </tbody>\n",
       "</table>\n",
       "</div>"
      ],
      "text/plain": [
       "               Indegree                                            Message  \\\n",
       "204112      twetcongres   your Right it could be aplied to almost any f...   \n",
       "204113      NewsBusters   : NYT Isues 1,0 Gushing Words on Obama's 'Gli...   \n",
       "204114  liberalchick230   I would not agre that Obama's first year has ...   \n",
       "204115        Sonja_Jo)  URGENT: FRE KIAN 209 [Sign the Petition] + vid...   \n",
       "204117        franosch)  NYTimes: Snr Cleric Montazeri Denounces #Iran ...   \n",
       "\n",
       "              Outdegree Sentiment   Date_time  \n",
       "204112        bunyramey         0  2009-12-01  \n",
       "204113           co2hog         4  2009-12-01  \n",
       "204114   meanderingsoul         4  2009-12-01  \n",
       "204115  persia_max_news         0  2009-12-01  \n",
       "204117        magicspin         0  2009-12-01  "
      ]
     },
     "execution_count": 50,
     "metadata": {},
     "output_type": "execute_result"
    }
   ],
   "source": [
    "#first 5 columns of filtered december data-set rows\n",
    "indegr.head()"
   ]
  },
  {
   "cell_type": "code",
   "execution_count": 51,
   "metadata": {
    "collapsed": true
   },
   "outputs": [],
   "source": [
    "#the december data-set  select the indegree columns and convert to a series \n",
    "edges =indegr.Indegree"
   ]
  },
  {
   "cell_type": "code",
   "execution_count": 57,
   "metadata": {
    "collapsed": false
   },
   "outputs": [
    {
     "data": {
      "text/plain": [
       "204112        twetcongres\n",
       "204113        NewsBusters\n",
       "204114    liberalchick230\n",
       "Name: Indegree, dtype: object"
      ]
     },
     "execution_count": 57,
     "metadata": {},
     "output_type": "execute_result"
    }
   ],
   "source": [
    "#first three values of indegree\n",
    "edges[:3]"
   ]
  },
  {
   "cell_type": "code",
   "execution_count": 52,
   "metadata": {
    "collapsed": true
   },
   "outputs": [],
   "source": [
    "# series dataset of indegree of december data convert to list\n",
    "ed= edges.tolist()"
   ]
  },
  {
   "cell_type": "code",
   "execution_count": 56,
   "metadata": {
    "collapsed": false
   },
   "outputs": [
    {
     "data": {
      "text/plain": [
       "['twetcongres', 'NewsBusters', 'liberalchick230']"
      ]
     },
     "execution_count": 56,
     "metadata": {},
     "output_type": "execute_result"
    }
   ],
   "source": [
    "#first three values of the list\n",
    "ed[:3]"
   ]
  },
  {
   "cell_type": "code",
   "execution_count": 53,
   "metadata": {
    "collapsed": true
   },
   "outputs": [],
   "source": [
    "#select all rows that outdegree that has users that is on list in k\n",
    "mained = re.loc[re['Indegree'].isin(ed)]"
   ]
  },
  {
   "cell_type": "code",
   "execution_count": 55,
   "metadata": {
    "collapsed": false
   },
   "outputs": [
    {
     "data": {
      "text/html": [
       "<div style=\"max-height:1000px;max-width:1500px;overflow:auto;\">\n",
       "<table border=\"1\" class=\"dataframe\">\n",
       "  <thead>\n",
       "    <tr style=\"text-align: right;\">\n",
       "      <th></th>\n",
       "      <th>Indegree</th>\n",
       "      <th>Message</th>\n",
       "      <th>Outdegree</th>\n",
       "      <th>Sentiment</th>\n",
       "      <th>Date_time</th>\n",
       "    </tr>\n",
       "  </thead>\n",
       "  <tbody>\n",
       "    <tr>\n",
       "      <th>27</th>\n",
       "      <td>jaketaper</td>\n",
       "      <td>did anyone ask Obama about this obesity item ...</td>\n",
       "      <td>theanchores</td>\n",
       "      <td>4</td>\n",
       "      <td>2009-06-1</td>\n",
       "    </tr>\n",
       "    <tr>\n",
       "      <th>54</th>\n",
       "      <td>BarackObama</td>\n",
       "      <td>Obama, you're a socialist, you fit the defini...</td>\n",
       "      <td>obamabenlying</td>\n",
       "      <td>4</td>\n",
       "      <td>2009-06-1</td>\n",
       "    </tr>\n",
       "    <tr>\n",
       "      <th>55</th>\n",
       "      <td>Whitehouse</td>\n",
       "      <td>Obama, you're a socialist, you fit the defini...</td>\n",
       "      <td>obamabenlying</td>\n",
       "      <td>4</td>\n",
       "      <td>2009-06-1</td>\n",
       "    </tr>\n",
       "  </tbody>\n",
       "</table>\n",
       "</div>"
      ],
      "text/plain": [
       "       Indegree                                            Message  \\\n",
       "27    jaketaper   did anyone ask Obama about this obesity item ...   \n",
       "54  BarackObama   Obama, you're a socialist, you fit the defini...   \n",
       "55   Whitehouse   Obama, you're a socialist, you fit the defini...   \n",
       "\n",
       "        Outdegree Sentiment  Date_time  \n",
       "27    theanchores         4  2009-06-1  \n",
       "54  obamabenlying         4  2009-06-1  \n",
       "55  obamabenlying         4  2009-06-1  "
      ]
     },
     "execution_count": 55,
     "metadata": {},
     "output_type": "execute_result"
    }
   ],
   "source": [
    "#first three rows of data\n",
    "mained[:3]"
   ]
  },
  {
   "cell_type": "code",
   "execution_count": 54,
   "metadata": {
    "collapsed": false
   },
   "outputs": [
    {
     "data": {
      "text/plain": [
       "(31509, 5)"
      ]
     },
     "execution_count": 54,
     "metadata": {},
     "output_type": "execute_result"
    }
   ],
   "source": [
    "#shape of the filtered dataset\n",
    "mained.shape"
   ]
  },
  {
   "cell_type": "code",
   "execution_count": null,
   "metadata": {
    "collapsed": true
   },
   "outputs": [],
   "source": []
  },
  {
   "cell_type": "code",
   "execution_count": null,
   "metadata": {
    "collapsed": true
   },
   "outputs": [],
   "source": []
  },
  {
   "cell_type": "code",
   "execution_count": null,
   "metadata": {
    "collapsed": true
   },
   "outputs": [],
   "source": []
  }
 ],
 "metadata": {
  "kernelspec": {
   "display_name": "Python 2",
   "language": "python",
   "name": "python2"
  },
  "language_info": {
   "codemirror_mode": {
    "name": "ipython",
    "version": 2
   },
   "file_extension": ".py",
   "mimetype": "text/x-python",
   "name": "python",
   "nbconvert_exporter": "python",
   "pygments_lexer": "ipython2",
   "version": "2.7.10"
  }
 },
 "nbformat": 4,
 "nbformat_minor": 0
}
