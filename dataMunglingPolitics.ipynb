{
 "cells": [
  {
   "cell_type": "code",
   "execution_count": 113,
   "metadata": {
    "collapsed": true
   },
   "outputs": [],
   "source": [
    "import pandas as pd"
   ]
  },
  {
   "cell_type": "code",
   "execution_count": 114,
   "metadata": {
    "collapsed": false
   },
   "outputs": [],
   "source": [
    "dataP = pd.read_csv(\"politicsDataset.csv\", header=0, quoting=0, delimiter=\",\")"
   ]
  },
  {
   "cell_type": "code",
   "execution_count": 115,
   "metadata": {
    "collapsed": false
   },
   "outputs": [
    {
     "data": {
      "text/plain": [
       "(219932, 5)"
      ]
     },
     "execution_count": 115,
     "metadata": {},
     "output_type": "execute_result"
    }
   ],
   "source": [
    "dataP.shape"
   ]
  },
  {
   "cell_type": "code",
   "execution_count": 116,
   "metadata": {
    "collapsed": false
   },
   "outputs": [
    {
     "data": {
      "text/html": [
       "<div style=\"max-height:1000px;max-width:1500px;overflow:auto;\">\n",
       "<table border=\"1\" class=\"dataframe\">\n",
       "  <thead>\n",
       "    <tr style=\"text-align: right;\">\n",
       "      <th></th>\n",
       "      <th>Indegree</th>\n",
       "      <th>Message</th>\n",
       "      <th>Outdegree</th>\n",
       "      <th>Sentiment</th>\n",
       "      <th>Date_time</th>\n",
       "    </tr>\n",
       "  </thead>\n",
       "  <tbody>\n",
       "    <tr>\n",
       "      <th>0</th>\n",
       "      <td>rodgerma)</td>\n",
       "      <td>Did you hear about this guy praying to his god...</td>\n",
       "      <td>tergiversant</td>\n",
       "      <td>4</td>\n",
       "      <td>2009-06-1</td>\n",
       "    </tr>\n",
       "    <tr>\n",
       "      <th>1</th>\n",
       "      <td>BOTelemprompter</td>\n",
       "      <td>has a busy, busy day. How does it fel to fil ...</td>\n",
       "      <td>youvegotamy</td>\n",
       "      <td>4</td>\n",
       "      <td>2009-06-1</td>\n",
       "    </tr>\n",
       "    <tr>\n",
       "      <th>2</th>\n",
       "      <td>majoratWH</td>\n",
       "      <td>let me gues, a healthcare photo op, with no s...</td>\n",
       "      <td>jumpin_jac</td>\n",
       "      <td>4</td>\n",
       "      <td>2009-06-1</td>\n",
       "    </tr>\n",
       "    <tr>\n",
       "      <th>3</th>\n",
       "      <td>MedicalVilage)</td>\n",
       "      <td>Dr. Crow: Did you know 5% of your employes cos...</td>\n",
       "      <td>vhpdocs</td>\n",
       "      <td>0</td>\n",
       "      <td>2009-06-1</td>\n",
       "    </tr>\n",
       "    <tr>\n",
       "      <th>4</th>\n",
       "      <td>msnbc:</td>\n",
       "      <td>Obama's pastor. He has bad timing! It wil tie ...</td>\n",
       "      <td>todgrich</td>\n",
       "      <td>0</td>\n",
       "      <td>2009-06-1</td>\n",
       "    </tr>\n",
       "  </tbody>\n",
       "</table>\n",
       "</div>"
      ],
      "text/plain": [
       "          Indegree                                            Message  \\\n",
       "0        rodgerma)  Did you hear about this guy praying to his god...   \n",
       "1  BOTelemprompter   has a busy, busy day. How does it fel to fil ...   \n",
       "2        majoratWH   let me gues, a healthcare photo op, with no s...   \n",
       "3   MedicalVilage)  Dr. Crow: Did you know 5% of your employes cos...   \n",
       "4           msnbc:  Obama's pastor. He has bad timing! It wil tie ...   \n",
       "\n",
       "      Outdegree Sentiment  Date_time  \n",
       "0  tergiversant         4  2009-06-1  \n",
       "1   youvegotamy         4  2009-06-1  \n",
       "2    jumpin_jac         4  2009-06-1  \n",
       "3       vhpdocs         0  2009-06-1  \n",
       "4      todgrich         0  2009-06-1  "
      ]
     },
     "execution_count": 116,
     "metadata": {},
     "output_type": "execute_result"
    }
   ],
   "source": [
    "dataP.head()"
   ]
  },
  {
   "cell_type": "code",
   "execution_count": 117,
   "metadata": {
    "collapsed": false
   },
   "outputs": [
    {
     "data": {
      "text/html": [
       "<div style=\"max-height:1000px;max-width:1500px;overflow:auto;\">\n",
       "<table border=\"1\" class=\"dataframe\">\n",
       "  <thead>\n",
       "    <tr style=\"text-align: right;\">\n",
       "      <th></th>\n",
       "      <th>Indegree</th>\n",
       "      <th>Message</th>\n",
       "      <th>Outdegree</th>\n",
       "      <th>Sentiment</th>\n",
       "      <th>Date_time</th>\n",
       "    </tr>\n",
       "  </thead>\n",
       "  <tbody>\n",
       "    <tr>\n",
       "      <th>219927</th>\n",
       "      <td>Omid_M</td>\n",
       "      <td>-&lt;-My piece about the IRGC and Irans Economy:...</td>\n",
       "      <td>iranpr</td>\n",
       "      <td>0</td>\n",
       "      <td>2009-12-31</td>\n",
       "    </tr>\n",
       "    <tr>\n",
       "      <th>219928</th>\n",
       "      <td>JanSimpson</td>\n",
       "      <td>Profiling inded works; conservatives profiled...</td>\n",
       "      <td>katyinindy</td>\n",
       "      <td>0</td>\n",
       "      <td>2009-12-31</td>\n",
       "    </tr>\n",
       "    <tr>\n",
       "      <th>219929</th>\n",
       "      <td>jilevin</td>\n",
       "      <td>I stand by my vote. Obama's not the problem. ...</td>\n",
       "      <td>carolaninwv</td>\n",
       "      <td>4</td>\n",
       "      <td>2009-12-31</td>\n",
       "    </tr>\n",
       "    <tr>\n",
       "      <th>219930</th>\n",
       "      <td>cn</td>\n",
       "      <td>Hm. Best (er, worst) of 209: Obama cult educat...</td>\n",
       "      <td>dncdudes</td>\n",
       "      <td>0</td>\n",
       "      <td>2009-12-31</td>\n",
       "    </tr>\n",
       "    <tr>\n",
       "      <th>219931</th>\n",
       "      <td>adthis</td>\n",
       "      <td>Music Video for #Iran #Iranelection Abjez: Man...</td>\n",
       "      <td>leilasadeghi</td>\n",
       "      <td>0</td>\n",
       "      <td>2009-12-31</td>\n",
       "    </tr>\n",
       "  </tbody>\n",
       "</table>\n",
       "</div>"
      ],
      "text/plain": [
       "          Indegree                                            Message  \\\n",
       "219927      Omid_M   -<-My piece about the IRGC and Irans Economy:...   \n",
       "219928  JanSimpson   Profiling inded works; conservatives profiled...   \n",
       "219929     jilevin   I stand by my vote. Obama's not the problem. ...   \n",
       "219930          cn  Hm. Best (er, worst) of 209: Obama cult educat...   \n",
       "219931      adthis  Music Video for #Iran #Iranelection Abjez: Man...   \n",
       "\n",
       "           Outdegree Sentiment   Date_time  \n",
       "219927        iranpr         0  2009-12-31  \n",
       "219928    katyinindy         0  2009-12-31  \n",
       "219929   carolaninwv         4  2009-12-31  \n",
       "219930      dncdudes         0  2009-12-31  \n",
       "219931  leilasadeghi         0  2009-12-31  "
      ]
     },
     "execution_count": 117,
     "metadata": {},
     "output_type": "execute_result"
    }
   ],
   "source": [
    "dataP.tail()"
   ]
  },
  {
   "cell_type": "code",
   "execution_count": 118,
   "metadata": {
    "collapsed": false
   },
   "outputs": [],
   "source": [
    "dec = dataP.loc[dataP['Date_time'].str.contains(\"2009-12-\")]"
   ]
  },
  {
   "cell_type": "code",
   "execution_count": 119,
   "metadata": {
    "collapsed": false
   },
   "outputs": [
    {
     "data": {
      "text/html": [
       "<div style=\"max-height:1000px;max-width:1500px;overflow:auto;\">\n",
       "<table border=\"1\" class=\"dataframe\">\n",
       "  <thead>\n",
       "    <tr style=\"text-align: right;\">\n",
       "      <th></th>\n",
       "      <th>Indegree</th>\n",
       "      <th>Message</th>\n",
       "      <th>Outdegree</th>\n",
       "      <th>Sentiment</th>\n",
       "      <th>Date_time</th>\n",
       "    </tr>\n",
       "  </thead>\n",
       "  <tbody>\n",
       "    <tr>\n",
       "      <th>204111</th>\n",
       "      <td>jamaicanmami</td>\n",
       "      <td>yes man he was the hope for black pl 2realy l...</td>\n",
       "      <td>popa2smoth</td>\n",
       "      <td>0</td>\n",
       "      <td>2009-12-01</td>\n",
       "    </tr>\n",
       "    <tr>\n",
       "      <th>204112</th>\n",
       "      <td>twetcongres</td>\n",
       "      <td>your Right it could be aplied to almost any f...</td>\n",
       "      <td>bunyramey</td>\n",
       "      <td>0</td>\n",
       "      <td>2009-12-01</td>\n",
       "    </tr>\n",
       "    <tr>\n",
       "      <th>204113</th>\n",
       "      <td>NewsBusters</td>\n",
       "      <td>: NYT Isues 1,0 Gushing Words on Obama's 'Gli...</td>\n",
       "      <td>co2hog</td>\n",
       "      <td>4</td>\n",
       "      <td>2009-12-01</td>\n",
       "    </tr>\n",
       "    <tr>\n",
       "      <th>204114</th>\n",
       "      <td>liberalchick230</td>\n",
       "      <td>I would not agre that Obama's first year has ...</td>\n",
       "      <td>meanderingsoul</td>\n",
       "      <td>4</td>\n",
       "      <td>2009-12-01</td>\n",
       "    </tr>\n",
       "    <tr>\n",
       "      <th>204115</th>\n",
       "      <td>Sonja_Jo)</td>\n",
       "      <td>URGENT: FRE KIAN 209 [Sign the Petition] + vid...</td>\n",
       "      <td>persia_max_news</td>\n",
       "      <td>0</td>\n",
       "      <td>2009-12-01</td>\n",
       "    </tr>\n",
       "  </tbody>\n",
       "</table>\n",
       "</div>"
      ],
      "text/plain": [
       "               Indegree                                            Message  \\\n",
       "204111     jamaicanmami   yes man he was the hope for black pl 2realy l...   \n",
       "204112      twetcongres   your Right it could be aplied to almost any f...   \n",
       "204113      NewsBusters   : NYT Isues 1,0 Gushing Words on Obama's 'Gli...   \n",
       "204114  liberalchick230   I would not agre that Obama's first year has ...   \n",
       "204115        Sonja_Jo)  URGENT: FRE KIAN 209 [Sign the Petition] + vid...   \n",
       "\n",
       "              Outdegree Sentiment   Date_time  \n",
       "204111       popa2smoth         0  2009-12-01  \n",
       "204112        bunyramey         0  2009-12-01  \n",
       "204113           co2hog         4  2009-12-01  \n",
       "204114   meanderingsoul         4  2009-12-01  \n",
       "204115  persia_max_news         0  2009-12-01  "
      ]
     },
     "execution_count": 119,
     "metadata": {},
     "output_type": "execute_result"
    }
   ],
   "source": [
    "dec.head()"
   ]
  },
  {
   "cell_type": "code",
   "execution_count": 120,
   "metadata": {
    "collapsed": false
   },
   "outputs": [],
   "source": [
    "t = dec.groupby(\"Outdegree\").size()"
   ]
  },
  {
   "cell_type": "code",
   "execution_count": 121,
   "metadata": {
    "collapsed": false
   },
   "outputs": [],
   "source": [
    "s= t[t>=6]"
   ]
  },
  {
   "cell_type": "code",
   "execution_count": 122,
   "metadata": {
    "collapsed": false
   },
   "outputs": [],
   "source": [
    "#s.to_csv(\"politicsoutdegreegreaterthan6.csv\")"
   ]
  },
  {
   "cell_type": "code",
   "execution_count": 123,
   "metadata": {
    "collapsed": false
   },
   "outputs": [],
   "source": [
    "t = pd.read_csv(\"politicsoutdegreegreaterthan6.csv\", header=0, quoting=0, delimiter=\",\", error_bad_lines=False)"
   ]
  },
  {
   "cell_type": "code",
   "execution_count": 124,
   "metadata": {
    "collapsed": false
   },
   "outputs": [
    {
     "data": {
      "text/html": [
       "<div style=\"max-height:1000px;max-width:1500px;overflow:auto;\">\n",
       "<table border=\"1\" class=\"dataframe\">\n",
       "  <thead>\n",
       "    <tr style=\"text-align: right;\">\n",
       "      <th></th>\n",
       "      <th>Outdegree</th>\n",
       "      <th>Freq</th>\n",
       "    </tr>\n",
       "  </thead>\n",
       "  <tbody>\n",
       "    <tr>\n",
       "      <th>0</th>\n",
       "      <td>0402sgrl</td>\n",
       "      <td>67</td>\n",
       "    </tr>\n",
       "    <tr>\n",
       "      <th>1</th>\n",
       "      <td>1hotitalian</td>\n",
       "      <td>44</td>\n",
       "    </tr>\n",
       "    <tr>\n",
       "      <th>2</th>\n",
       "      <td>2bluestarmom</td>\n",
       "      <td>19</td>\n",
       "    </tr>\n",
       "    <tr>\n",
       "      <th>3</th>\n",
       "      <td>3fatcats</td>\n",
       "      <td>9</td>\n",
       "    </tr>\n",
       "    <tr>\n",
       "      <th>4</th>\n",
       "      <td>4row</td>\n",
       "      <td>9</td>\n",
       "    </tr>\n",
       "  </tbody>\n",
       "</table>\n",
       "</div>"
      ],
      "text/plain": [
       "      Outdegree  Freq\n",
       "0      0402sgrl    67\n",
       "1   1hotitalian    44\n",
       "2  2bluestarmom    19\n",
       "3      3fatcats     9\n",
       "4          4row     9"
      ]
     },
     "execution_count": 124,
     "metadata": {},
     "output_type": "execute_result"
    }
   ],
   "source": [
    "t.head()"
   ]
  },
  {
   "cell_type": "code",
   "execution_count": 125,
   "metadata": {
    "collapsed": false
   },
   "outputs": [],
   "source": [
    "j =t.Outdegree"
   ]
  },
  {
   "cell_type": "code",
   "execution_count": 126,
   "metadata": {
    "collapsed": false
   },
   "outputs": [],
   "source": [
    "k= j.tolist()"
   ]
  },
  {
   "cell_type": "code",
   "execution_count": 136,
   "metadata": {
    "collapsed": true
   },
   "outputs": [],
   "source": [
    "re = dataP.loc[dataP['Outdegree'].isin(k)]"
   ]
  },
  {
   "cell_type": "code",
   "execution_count": 137,
   "metadata": {
    "collapsed": false
   },
   "outputs": [
    {
     "data": {
      "text/plain": [
       "(34036, 5)"
      ]
     },
     "execution_count": 137,
     "metadata": {},
     "output_type": "execute_result"
    }
   ],
   "source": [
    "re.shape"
   ]
  },
  {
   "cell_type": "code",
   "execution_count": 146,
   "metadata": {
    "collapsed": false
   },
   "outputs": [
    {
     "data": {
      "text/html": [
       "<div style=\"max-height:1000px;max-width:1500px;overflow:auto;\">\n",
       "<table border=\"1\" class=\"dataframe\">\n",
       "  <thead>\n",
       "    <tr style=\"text-align: right;\">\n",
       "      <th></th>\n",
       "      <th>Indegree</th>\n",
       "      <th>Message</th>\n",
       "      <th>Outdegree</th>\n",
       "      <th>Sentiment</th>\n",
       "      <th>Date_time</th>\n",
       "    </tr>\n",
       "  </thead>\n",
       "  <tbody>\n",
       "    <tr>\n",
       "      <th>8</th>\n",
       "      <td>PoliticsLeft)</td>\n",
       "      <td>Obama Health Care Push Goes On The Road URL (v...</td>\n",
       "      <td>tm_lifestyle</td>\n",
       "      <td>4</td>\n",
       "      <td>2009-06-1</td>\n",
       "    </tr>\n",
       "    <tr>\n",
       "      <th>465</th>\n",
       "      <td>Pegahsimin</td>\n",
       "      <td>You are right, this is the moment for Mousavi...</td>\n",
       "      <td>oxfordgirl</td>\n",
       "      <td>0</td>\n",
       "      <td>2009-06-13</td>\n",
       "    </tr>\n",
       "    <tr>\n",
       "      <th>496</th>\n",
       "      <td>anamariecox</td>\n",
       "      <td>AMAZING video of Tehran stret protests from Y...</td>\n",
       "      <td>teresakopec</td>\n",
       "      <td>4</td>\n",
       "      <td>2009-06-13</td>\n",
       "    </tr>\n",
       "    <tr>\n",
       "      <th>497</th>\n",
       "      <td>AliBasiri</td>\n",
       "      <td>AMAZING video of Tehran stret protests from Y...</td>\n",
       "      <td>teresakopec</td>\n",
       "      <td>4</td>\n",
       "      <td>2009-06-13</td>\n",
       "    </tr>\n",
       "    <tr>\n",
       "      <th>498</th>\n",
       "      <td>stevebeste)</td>\n",
       "      <td>AMAZING video of Tehran stret protests from Y...</td>\n",
       "      <td>teresakopec</td>\n",
       "      <td>4</td>\n",
       "      <td>2009-06-13</td>\n",
       "    </tr>\n",
       "  </tbody>\n",
       "</table>\n",
       "</div>"
      ],
      "text/plain": [
       "          Indegree                                            Message  \\\n",
       "8    PoliticsLeft)  Obama Health Care Push Goes On The Road URL (v...   \n",
       "465     Pegahsimin   You are right, this is the moment for Mousavi...   \n",
       "496    anamariecox   AMAZING video of Tehran stret protests from Y...   \n",
       "497      AliBasiri   AMAZING video of Tehran stret protests from Y...   \n",
       "498    stevebeste)   AMAZING video of Tehran stret protests from Y...   \n",
       "\n",
       "        Outdegree Sentiment   Date_time  \n",
       "8    tm_lifestyle         4   2009-06-1  \n",
       "465    oxfordgirl         0  2009-06-13  \n",
       "496   teresakopec         4  2009-06-13  \n",
       "497   teresakopec         4  2009-06-13  \n",
       "498   teresakopec         4  2009-06-13  "
      ]
     },
     "execution_count": 146,
     "metadata": {},
     "output_type": "execute_result"
    }
   ],
   "source": [
    "re.head()"
   ]
  },
  {
   "cell_type": "code",
   "execution_count": null,
   "metadata": {
    "collapsed": true
   },
   "outputs": [],
   "source": []
  },
  {
   "cell_type": "code",
   "execution_count": 139,
   "metadata": {
    "collapsed": true
   },
   "outputs": [],
   "source": [
    "indegr = re.loc[re['Date_time'].str.contains(\"2009-12-\")]"
   ]
  },
  {
   "cell_type": "code",
   "execution_count": 145,
   "metadata": {
    "collapsed": false
   },
   "outputs": [
    {
     "data": {
      "text/html": [
       "<div style=\"max-height:1000px;max-width:1500px;overflow:auto;\">\n",
       "<table border=\"1\" class=\"dataframe\">\n",
       "  <thead>\n",
       "    <tr style=\"text-align: right;\">\n",
       "      <th></th>\n",
       "      <th>Indegree</th>\n",
       "      <th>Message</th>\n",
       "      <th>Outdegree</th>\n",
       "      <th>Sentiment</th>\n",
       "      <th>Date_time</th>\n",
       "    </tr>\n",
       "  </thead>\n",
       "  <tbody>\n",
       "    <tr>\n",
       "      <th>204113</th>\n",
       "      <td>NewsBusters</td>\n",
       "      <td>: NYT Isues 1,0 Gushing Words on Obama's 'Gli...</td>\n",
       "      <td>co2hog</td>\n",
       "      <td>4</td>\n",
       "      <td>2009-12-01</td>\n",
       "    </tr>\n",
       "    <tr>\n",
       "      <th>204115</th>\n",
       "      <td>Sonja_Jo)</td>\n",
       "      <td>URGENT: FRE KIAN 209 [Sign the Petition] + vid...</td>\n",
       "      <td>persia_max_news</td>\n",
       "      <td>0</td>\n",
       "      <td>2009-12-01</td>\n",
       "    </tr>\n",
       "    <tr>\n",
       "      <th>204121</th>\n",
       "      <td>tehranwekly)</td>\n",
       "      <td>URL Solidarity with Iranian Students December ...</td>\n",
       "      <td>persia_max_news</td>\n",
       "      <td>4</td>\n",
       "      <td>2009-12-01</td>\n",
       "    </tr>\n",
       "    <tr>\n",
       "      <th>204128</th>\n",
       "      <td>tehranwekly)</td>\n",
       "      <td>Tie a Yelow Ribon Round the Ole Oak Tre -Hosta...</td>\n",
       "      <td>persia_max_news</td>\n",
       "      <td>0</td>\n",
       "      <td>2009-12-01</td>\n",
       "    </tr>\n",
       "    <tr>\n",
       "      <th>204130</th>\n",
       "      <td>tehranwekly)</td>\n",
       "      <td>Block the trols -Search filter tonight: \"#iran...</td>\n",
       "      <td>persia_max_news</td>\n",
       "      <td>0</td>\n",
       "      <td>2009-12-01</td>\n",
       "    </tr>\n",
       "  </tbody>\n",
       "</table>\n",
       "</div>"
      ],
      "text/plain": [
       "            Indegree                                            Message  \\\n",
       "204113   NewsBusters   : NYT Isues 1,0 Gushing Words on Obama's 'Gli...   \n",
       "204115     Sonja_Jo)  URGENT: FRE KIAN 209 [Sign the Petition] + vid...   \n",
       "204121  tehranwekly)  URL Solidarity with Iranian Students December ...   \n",
       "204128  tehranwekly)  Tie a Yelow Ribon Round the Ole Oak Tre -Hosta...   \n",
       "204130  tehranwekly)  Block the trols -Search filter tonight: \"#iran...   \n",
       "\n",
       "              Outdegree Sentiment   Date_time  \n",
       "204113           co2hog         4  2009-12-01  \n",
       "204115  persia_max_news         0  2009-12-01  \n",
       "204121  persia_max_news         4  2009-12-01  \n",
       "204128  persia_max_news         0  2009-12-01  \n",
       "204130  persia_max_news         0  2009-12-01  "
      ]
     },
     "execution_count": 145,
     "metadata": {},
     "output_type": "execute_result"
    }
   ],
   "source": [
    "indegr.head()"
   ]
  },
  {
   "cell_type": "code",
   "execution_count": 141,
   "metadata": {
    "collapsed": true
   },
   "outputs": [],
   "source": [
    "edges =indegr.Indegree"
   ]
  },
  {
   "cell_type": "code",
   "execution_count": 142,
   "metadata": {
    "collapsed": true
   },
   "outputs": [],
   "source": [
    "ed= edges.tolist()"
   ]
  },
  {
   "cell_type": "code",
   "execution_count": 143,
   "metadata": {
    "collapsed": true
   },
   "outputs": [],
   "source": [
    "mained = re.loc[re['Indegree'].isin(ed)]"
   ]
  },
  {
   "cell_type": "code",
   "execution_count": 144,
   "metadata": {
    "collapsed": false
   },
   "outputs": [
    {
     "data": {
      "text/plain": [
       "(20447, 5)"
      ]
     },
     "execution_count": 144,
     "metadata": {},
     "output_type": "execute_result"
    }
   ],
   "source": [
    "mained.shape"
   ]
  },
  {
   "cell_type": "code",
   "execution_count": null,
   "metadata": {
    "collapsed": true
   },
   "outputs": [],
   "source": []
  },
  {
   "cell_type": "code",
   "execution_count": null,
   "metadata": {
    "collapsed": true
   },
   "outputs": [],
   "source": []
  }
 ],
 "metadata": {
  "kernelspec": {
   "display_name": "Python 2",
   "language": "python",
   "name": "python2"
  },
  "language_info": {
   "codemirror_mode": {
    "name": "ipython",
    "version": 2
   },
   "file_extension": ".py",
   "mimetype": "text/x-python",
   "name": "python",
   "nbconvert_exporter": "python",
   "pygments_lexer": "ipython2",
   "version": "2.7.10"
  }
 },
 "nbformat": 4,
 "nbformat_minor": 0
}
