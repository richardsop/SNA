{
 "cells": [
  {
   "cell_type": "code",
   "execution_count": 1,
   "metadata": {
    "collapsed": true
   },
   "outputs": [],
   "source": [
    "import pandas as pd"
   ]
  },
  {
   "cell_type": "code",
   "execution_count": 2,
   "metadata": {
    "collapsed": false
   },
   "outputs": [],
   "source": [
    "#read csv file\n",
    "dataP = pd.read_csv(\"sportDataset.csv\", header=0, quoting=0, delimiter=\",\")"
   ]
  },
  {
   "cell_type": "code",
   "execution_count": 3,
   "metadata": {
    "collapsed": false
   },
   "outputs": [
    {
     "data": {
      "text/plain": [
       "(130982, 5)"
      ]
     },
     "execution_count": 3,
     "metadata": {},
     "output_type": "execute_result"
    }
   ],
   "source": [
    "#dimension of data\n",
    "dataP.shape"
   ]
  },
  {
   "cell_type": "code",
   "execution_count": 4,
   "metadata": {
    "collapsed": false
   },
   "outputs": [
    {
     "data": {
      "text/html": [
       "<div style=\"max-height:1000px;max-width:1500px;overflow:auto;\">\n",
       "<table border=\"1\" class=\"dataframe\">\n",
       "  <thead>\n",
       "    <tr style=\"text-align: right;\">\n",
       "      <th></th>\n",
       "      <th>Date_time</th>\n",
       "      <th>Indegree</th>\n",
       "      <th>Message</th>\n",
       "      <th>Outdegree</th>\n",
       "      <th>Sentiment</th>\n",
       "    </tr>\n",
       "  </thead>\n",
       "  <tbody>\n",
       "    <tr>\n",
       "      <th>0</th>\n",
       "      <td>2009-06-1</td>\n",
       "      <td>TeDol</td>\n",
       "      <td>ew no! . lol.my friend chelsea dem.we just go...</td>\n",
       "      <td>amberbadbxtch</td>\n",
       "      <td>0</td>\n",
       "    </tr>\n",
       "    <tr>\n",
       "      <th>1</th>\n",
       "      <td>2009-06-1</td>\n",
       "      <td>num3yankfan,</td>\n",
       "      <td>, what hapened to the yankes last night?</td>\n",
       "      <td>johnmac_cabinet</td>\n",
       "      <td>0</td>\n",
       "    </tr>\n",
       "    <tr>\n",
       "      <th>2</th>\n",
       "      <td>2009-06-1</td>\n",
       "      <td>wtg2</td>\n",
       "      <td>i think they overpaid but kaka and ronaldo on...</td>\n",
       "      <td>echavez9</td>\n",
       "      <td>0</td>\n",
       "    </tr>\n",
       "    <tr>\n",
       "      <th>3</th>\n",
       "      <td>2009-06-1</td>\n",
       "      <td>Stelers_news)</td>\n",
       "      <td>Pitsburgh Stelers Superbowl Ring 209 Pics Pict...</td>\n",
       "      <td>hilbilytiley</td>\n",
       "      <td>4</td>\n",
       "    </tr>\n",
       "    <tr>\n",
       "      <th>4</th>\n",
       "      <td>2009-06-1</td>\n",
       "      <td>exohbela</td>\n",
       "      <td>What kind of \"New Yorker\" isn't a Yankes fan?...</td>\n",
       "      <td>cityseducti0n</td>\n",
       "      <td>0</td>\n",
       "    </tr>\n",
       "  </tbody>\n",
       "</table>\n",
       "</div>"
      ],
      "text/plain": [
       "   Date_time       Indegree  \\\n",
       "0  2009-06-1          TeDol   \n",
       "1  2009-06-1   num3yankfan,   \n",
       "2  2009-06-1           wtg2   \n",
       "3  2009-06-1  Stelers_news)   \n",
       "4  2009-06-1       exohbela   \n",
       "\n",
       "                                             Message        Outdegree  \\\n",
       "0   ew no! . lol.my friend chelsea dem.we just go...    amberbadbxtch   \n",
       "1           , what hapened to the yankes last night?  johnmac_cabinet   \n",
       "2   i think they overpaid but kaka and ronaldo on...         echavez9   \n",
       "3  Pitsburgh Stelers Superbowl Ring 209 Pics Pict...     hilbilytiley   \n",
       "4   What kind of \"New Yorker\" isn't a Yankes fan?...    cityseducti0n   \n",
       "\n",
       "   Sentiment  \n",
       "0          0  \n",
       "1          0  \n",
       "2          0  \n",
       "3          4  \n",
       "4          0  "
      ]
     },
     "execution_count": 4,
     "metadata": {},
     "output_type": "execute_result"
    }
   ],
   "source": [
    "#first 5 rows of data\n",
    "dataP.head()"
   ]
  },
  {
   "cell_type": "code",
   "execution_count": 5,
   "metadata": {
    "collapsed": false
   },
   "outputs": [
    {
     "data": {
      "text/html": [
       "<div style=\"max-height:1000px;max-width:1500px;overflow:auto;\">\n",
       "<table border=\"1\" class=\"dataframe\">\n",
       "  <thead>\n",
       "    <tr style=\"text-align: right;\">\n",
       "      <th></th>\n",
       "      <th>Date_time</th>\n",
       "      <th>Indegree</th>\n",
       "      <th>Message</th>\n",
       "      <th>Outdegree</th>\n",
       "      <th>Sentiment</th>\n",
       "    </tr>\n",
       "  </thead>\n",
       "  <tbody>\n",
       "    <tr>\n",
       "      <th>130977</th>\n",
       "      <td>2009-12-31</td>\n",
       "      <td>deseanjackson10</td>\n",
       "      <td>#FT09 I'm so blesed 2 be meh real talk. no hum...</td>\n",
       "      <td>mon321</td>\n",
       "      <td>4</td>\n",
       "    </tr>\n",
       "    <tr>\n",
       "      <th>130978</th>\n",
       "      <td>2009-12-31</td>\n",
       "      <td>ArwenAnaNg</td>\n",
       "      <td>Ok, I wil let u get on w your Dr Katz, but fi...</td>\n",
       "      <td>slothandgluton</td>\n",
       "      <td>0</td>\n",
       "    </tr>\n",
       "    <tr>\n",
       "      <th>130979</th>\n",
       "      <td>2009-12-31</td>\n",
       "      <td>olbalcoach</td>\n",
       "      <td>The NFL rarely adapts to anything lol. I thin...</td>\n",
       "      <td>dapa191</td>\n",
       "      <td>4</td>\n",
       "    </tr>\n",
       "    <tr>\n",
       "      <th>130980</th>\n",
       "      <td>2009-12-31</td>\n",
       "      <td>Str8tarow</td>\n",
       "      <td>oh yea did you hear the NFL might not have a ...</td>\n",
       "      <td>okc_casey</td>\n",
       "      <td>0</td>\n",
       "    </tr>\n",
       "    <tr>\n",
       "      <th>130981</th>\n",
       "      <td>2009-12-31</td>\n",
       "      <td>youngtahoe</td>\n",
       "      <td>Nah. Ya Starving. But We Done With This 4 The...</td>\n",
       "      <td>high3rstatus</td>\n",
       "      <td>4</td>\n",
       "    </tr>\n",
       "  </tbody>\n",
       "</table>\n",
       "</div>"
      ],
      "text/plain": [
       "         Date_time         Indegree  \\\n",
       "130977  2009-12-31  deseanjackson10   \n",
       "130978  2009-12-31       ArwenAnaNg   \n",
       "130979  2009-12-31       olbalcoach   \n",
       "130980  2009-12-31        Str8tarow   \n",
       "130981  2009-12-31       youngtahoe   \n",
       "\n",
       "                                                  Message       Outdegree  \\\n",
       "130977  #FT09 I'm so blesed 2 be meh real talk. no hum...          mon321   \n",
       "130978   Ok, I wil let u get on w your Dr Katz, but fi...  slothandgluton   \n",
       "130979   The NFL rarely adapts to anything lol. I thin...         dapa191   \n",
       "130980   oh yea did you hear the NFL might not have a ...       okc_casey   \n",
       "130981   Nah. Ya Starving. But We Done With This 4 The...    high3rstatus   \n",
       "\n",
       "        Sentiment  \n",
       "130977          4  \n",
       "130978          0  \n",
       "130979          4  \n",
       "130980          0  \n",
       "130981          4  "
      ]
     },
     "execution_count": 5,
     "metadata": {},
     "output_type": "execute_result"
    }
   ],
   "source": [
    "#last 5 rows of data\n",
    "dataP.tail()"
   ]
  },
  {
   "cell_type": "code",
   "execution_count": 6,
   "metadata": {
    "collapsed": false
   },
   "outputs": [],
   "source": [
    "#select all rows from date_time column that starts with \"2009-12-\"\n",
    "dec = dataP.loc[dataP['Date_time'].str.contains(\"2009-12-\")]"
   ]
  },
  {
   "cell_type": "code",
   "execution_count": 7,
   "metadata": {
    "collapsed": false
   },
   "outputs": [
    {
     "data": {
      "text/html": [
       "<div style=\"max-height:1000px;max-width:1500px;overflow:auto;\">\n",
       "<table border=\"1\" class=\"dataframe\">\n",
       "  <thead>\n",
       "    <tr style=\"text-align: right;\">\n",
       "      <th></th>\n",
       "      <th>Date_time</th>\n",
       "      <th>Indegree</th>\n",
       "      <th>Message</th>\n",
       "      <th>Outdegree</th>\n",
       "      <th>Sentiment</th>\n",
       "    </tr>\n",
       "  </thead>\n",
       "  <tbody>\n",
       "    <tr>\n",
       "      <th>119960</th>\n",
       "      <td>2009-12-01</td>\n",
       "      <td>StacyKeibler</td>\n",
       "      <td>Being an obvious Ravens &amp; NFL fan, I was wond...</td>\n",
       "      <td>quasardj</td>\n",
       "      <td>0</td>\n",
       "    </tr>\n",
       "    <tr>\n",
       "      <th>119961</th>\n",
       "      <td>2009-12-01</td>\n",
       "      <td>KAcom</td>\n",
       "      <td>I'm going with the #Saints tonight over #Patr...</td>\n",
       "      <td>izyjsmom</td>\n",
       "      <td>0</td>\n",
       "    </tr>\n",
       "    <tr>\n",
       "      <th>119962</th>\n",
       "      <td>2009-12-01</td>\n",
       "      <td>SI_JimTroter</td>\n",
       "      <td>I know with the NFL you're not suposed to thi...</td>\n",
       "      <td>bojackruso</td>\n",
       "      <td>4</td>\n",
       "    </tr>\n",
       "    <tr>\n",
       "      <th>119963</th>\n",
       "      <td>2009-12-01</td>\n",
       "      <td>jilgundy</td>\n",
       "      <td>FYI: I became a Saints fan thre years ago. I ...</td>\n",
       "      <td>stephnmcdonald</td>\n",
       "      <td>4</td>\n",
       "    </tr>\n",
       "    <tr>\n",
       "      <th>119964</th>\n",
       "      <td>2009-12-01</td>\n",
       "      <td>twersky</td>\n",
       "      <td>I'd rather se charlie ward batle jarmarcus ru...</td>\n",
       "      <td>smileyoufckers</td>\n",
       "      <td>4</td>\n",
       "    </tr>\n",
       "  </tbody>\n",
       "</table>\n",
       "</div>"
      ],
      "text/plain": [
       "         Date_time      Indegree  \\\n",
       "119960  2009-12-01  StacyKeibler   \n",
       "119961  2009-12-01         KAcom   \n",
       "119962  2009-12-01  SI_JimTroter   \n",
       "119963  2009-12-01      jilgundy   \n",
       "119964  2009-12-01       twersky   \n",
       "\n",
       "                                                  Message       Outdegree  \\\n",
       "119960   Being an obvious Ravens & NFL fan, I was wond...        quasardj   \n",
       "119961   I'm going with the #Saints tonight over #Patr...        izyjsmom   \n",
       "119962   I know with the NFL you're not suposed to thi...      bojackruso   \n",
       "119963   FYI: I became a Saints fan thre years ago. I ...  stephnmcdonald   \n",
       "119964   I'd rather se charlie ward batle jarmarcus ru...  smileyoufckers   \n",
       "\n",
       "        Sentiment  \n",
       "119960          0  \n",
       "119961          0  \n",
       "119962          4  \n",
       "119963          4  \n",
       "119964          4  "
      ]
     },
     "execution_count": 7,
     "metadata": {},
     "output_type": "execute_result"
    }
   ],
   "source": [
    "#first 5 rows of data\n",
    "dec.head()"
   ]
  },
  {
   "cell_type": "code",
   "execution_count": 8,
   "metadata": {
    "collapsed": false
   },
   "outputs": [],
   "source": [
    "#group the data-set by outdegree coloumn by the size to a new dataframe\n",
    "t = dec.groupby(\"Outdegree\").size()"
   ]
  },
  {
   "cell_type": "code",
   "execution_count": 9,
   "metadata": {
    "collapsed": false
   },
   "outputs": [
    {
     "data": {
      "text/plain": [
       "Outdegree\n",
       "04hodgeh    1\n",
       "07an        1\n",
       "09peter     1\n",
       "dtype: int64"
      ]
     },
     "execution_count": 9,
     "metadata": {},
     "output_type": "execute_result"
    }
   ],
   "source": [
    "# first three values of data\n",
    "t[:3]"
   ]
  },
  {
   "cell_type": "code",
   "execution_count": 10,
   "metadata": {
    "collapsed": false
   },
   "outputs": [],
   "source": [
    "#select/filter all users with a conversation greater than or equal to 6\n",
    "s= t[t>=2]"
   ]
  },
  {
   "cell_type": "code",
   "execution_count": 65,
   "metadata": {
    "collapsed": false
   },
   "outputs": [
    {
     "data": {
      "text/plain": [
       "Outdegree\n",
       "0402sgrl     67\n",
       "14gotit       2\n",
       "15th_imam     3\n",
       "dtype: int64"
      ]
     },
     "execution_count": 65,
     "metadata": {},
     "output_type": "execute_result"
    }
   ],
   "source": [
    "# first three values of data\n",
    "s[:3]"
   ]
  },
  {
   "cell_type": "code",
   "execution_count": 11,
   "metadata": {
    "collapsed": false
   },
   "outputs": [],
   "source": [
    "#s.to_csv(\"sportoutdegreegreaterthan2.csv\")"
   ]
  },
  {
   "cell_type": "code",
   "execution_count": 12,
   "metadata": {
    "collapsed": false
   },
   "outputs": [],
   "source": [
    "t = pd.read_csv(\"sportoutdegreegreaterthan2.csv\", header=0, quoting=0, delimiter=\",\", error_bad_lines=False)"
   ]
  },
  {
   "cell_type": "code",
   "execution_count": 13,
   "metadata": {
    "collapsed": false
   },
   "outputs": [
    {
     "data": {
      "text/html": [
       "<div style=\"max-height:1000px;max-width:1500px;overflow:auto;\">\n",
       "<table border=\"1\" class=\"dataframe\">\n",
       "  <thead>\n",
       "    <tr style=\"text-align: right;\">\n",
       "      <th></th>\n",
       "      <th>Outdegree</th>\n",
       "      <th>Freq</th>\n",
       "    </tr>\n",
       "  </thead>\n",
       "  <tbody>\n",
       "    <tr>\n",
       "      <th>0</th>\n",
       "      <td>12loveyou</td>\n",
       "      <td>2</td>\n",
       "    </tr>\n",
       "    <tr>\n",
       "      <th>1</th>\n",
       "      <td>13becafod</td>\n",
       "      <td>2</td>\n",
       "    </tr>\n",
       "    <tr>\n",
       "      <th>2</th>\n",
       "      <td>167890</td>\n",
       "      <td>2</td>\n",
       "    </tr>\n",
       "    <tr>\n",
       "      <th>3</th>\n",
       "      <td>1965eperez</td>\n",
       "      <td>4</td>\n",
       "    </tr>\n",
       "    <tr>\n",
       "      <th>4</th>\n",
       "      <td>1blondewonder</td>\n",
       "      <td>2</td>\n",
       "    </tr>\n",
       "  </tbody>\n",
       "</table>\n",
       "</div>"
      ],
      "text/plain": [
       "       Outdegree  Freq\n",
       "0      12loveyou     2\n",
       "1      13becafod     2\n",
       "2         167890     2\n",
       "3     1965eperez     4\n",
       "4  1blondewonder     2"
      ]
     },
     "execution_count": 13,
     "metadata": {},
     "output_type": "execute_result"
    }
   ],
   "source": [
    "#first 5 columns of selected conversation of a threshold of 6\n",
    "t.head()"
   ]
  },
  {
   "cell_type": "code",
   "execution_count": null,
   "metadata": {
    "collapsed": true
   },
   "outputs": [],
   "source": []
  },
  {
   "cell_type": "code",
   "execution_count": 14,
   "metadata": {
    "collapsed": false
   },
   "outputs": [],
   "source": [
    "#convert the column outdegree to series\n",
    "j =t.Outdegree"
   ]
  },
  {
   "cell_type": "code",
   "execution_count": 15,
   "metadata": {
    "collapsed": false
   },
   "outputs": [
    {
     "data": {
      "text/plain": [
       "0    12loveyou\n",
       "1    13becafod\n",
       "2       167890\n",
       "Name: Outdegree, dtype: object"
      ]
     },
     "execution_count": 15,
     "metadata": {},
     "output_type": "execute_result"
    }
   ],
   "source": [
    "# first three values of outdegree\n",
    "j[:3]"
   ]
  },
  {
   "cell_type": "code",
   "execution_count": 16,
   "metadata": {
    "collapsed": false
   },
   "outputs": [],
   "source": [
    "# convert series data-set to a list\n",
    "k= j.tolist()"
   ]
  },
  {
   "cell_type": "code",
   "execution_count": 17,
   "metadata": {
    "collapsed": false
   },
   "outputs": [
    {
     "data": {
      "text/plain": [
       "['12loveyou', '13becafod', '167890']"
      ]
     },
     "execution_count": 17,
     "metadata": {},
     "output_type": "execute_result"
    }
   ],
   "source": [
    "# first three values of list\n",
    "k[:3]"
   ]
  },
  {
   "cell_type": "code",
   "execution_count": 18,
   "metadata": {
    "collapsed": true
   },
   "outputs": [],
   "source": [
    "#select all rows that outdegree that has users that is on list in k\n",
    "re = dataP.loc[dataP['Outdegree'].isin(k)]"
   ]
  },
  {
   "cell_type": "code",
   "execution_count": 19,
   "metadata": {
    "collapsed": false
   },
   "outputs": [
    {
     "data": {
      "text/plain": [
       "(8964, 5)"
      ]
     },
     "execution_count": 19,
     "metadata": {},
     "output_type": "execute_result"
    }
   ],
   "source": [
    "#shape of the filtered dataset\n",
    "re.shape"
   ]
  },
  {
   "cell_type": "code",
   "execution_count": 20,
   "metadata": {
    "collapsed": false
   },
   "outputs": [
    {
     "data": {
      "text/html": [
       "<div style=\"max-height:1000px;max-width:1500px;overflow:auto;\">\n",
       "<table border=\"1\" class=\"dataframe\">\n",
       "  <thead>\n",
       "    <tr style=\"text-align: right;\">\n",
       "      <th></th>\n",
       "      <th>Date_time</th>\n",
       "      <th>Indegree</th>\n",
       "      <th>Message</th>\n",
       "      <th>Outdegree</th>\n",
       "      <th>Sentiment</th>\n",
       "    </tr>\n",
       "  </thead>\n",
       "  <tbody>\n",
       "    <tr>\n",
       "      <th>11</th>\n",
       "      <td>2009-06-1</td>\n",
       "      <td>QBKILA</td>\n",
       "      <td>was dancin with the stars years ago - nice fo...</td>\n",
       "      <td>mondaymorningqb</td>\n",
       "      <td>4</td>\n",
       "    </tr>\n",
       "    <tr>\n",
       "      <th>12</th>\n",
       "      <td>2009-06-1</td>\n",
       "      <td>michaelstrahan</td>\n",
       "      <td>was dancin with the stars years ago - nice fo...</td>\n",
       "      <td>mondaymorningqb</td>\n",
       "      <td>4</td>\n",
       "    </tr>\n",
       "    <tr>\n",
       "      <th>76</th>\n",
       "      <td>2009-06-12</td>\n",
       "      <td>qbkila</td>\n",
       "      <td>VIDEO: Young ready to play (again) - #nfl #cas...</td>\n",
       "      <td>mondaymorningqb</td>\n",
       "      <td>4</td>\n",
       "    </tr>\n",
       "    <tr>\n",
       "      <th>153</th>\n",
       "      <td>2009-06-12</td>\n",
       "      <td>SubtleBlade</td>\n",
       "      <td>I am quite kind.! It loks great. wherever you...</td>\n",
       "      <td>charonqc</td>\n",
       "      <td>4</td>\n",
       "    </tr>\n",
       "    <tr>\n",
       "      <th>187</th>\n",
       "      <td>2009-06-13</td>\n",
       "      <td>RockinPRGirl</td>\n",
       "      <td>I hear your NFL team is prety god to. Stel Ci...</td>\n",
       "      <td>noneyouknow</td>\n",
       "      <td>4</td>\n",
       "    </tr>\n",
       "  </tbody>\n",
       "</table>\n",
       "</div>"
      ],
      "text/plain": [
       "      Date_time        Indegree  \\\n",
       "11    2009-06-1          QBKILA   \n",
       "12    2009-06-1  michaelstrahan   \n",
       "76   2009-06-12          qbkila   \n",
       "153  2009-06-12     SubtleBlade   \n",
       "187  2009-06-13    RockinPRGirl   \n",
       "\n",
       "                                               Message        Outdegree  \\\n",
       "11    was dancin with the stars years ago - nice fo...  mondaymorningqb   \n",
       "12    was dancin with the stars years ago - nice fo...  mondaymorningqb   \n",
       "76   VIDEO: Young ready to play (again) - #nfl #cas...  mondaymorningqb   \n",
       "153   I am quite kind.! It loks great. wherever you...         charonqc   \n",
       "187   I hear your NFL team is prety god to. Stel Ci...      noneyouknow   \n",
       "\n",
       "     Sentiment  \n",
       "11           4  \n",
       "12           4  \n",
       "76           4  \n",
       "153          4  \n",
       "187          4  "
      ]
     },
     "execution_count": 20,
     "metadata": {},
     "output_type": "execute_result"
    }
   ],
   "source": [
    "#first 5 rows of filtered dataset\n",
    "re.head()"
   ]
  },
  {
   "cell_type": "code",
   "execution_count": null,
   "metadata": {
    "collapsed": true
   },
   "outputs": [],
   "source": []
  },
  {
   "cell_type": "code",
   "execution_count": 21,
   "metadata": {
    "collapsed": true
   },
   "outputs": [],
   "source": [
    "\"\"\"\" from the threshold dataset of users with conversations greater than 6, filter all rows in date_time that contains \n",
    "#2009-120\"\"\"\n",
    "\n",
    "indegr = re.loc[re['Date_time'].str.contains(\"2009-12-\")]"
   ]
  },
  {
   "cell_type": "code",
   "execution_count": 22,
   "metadata": {
    "collapsed": false
   },
   "outputs": [
    {
     "data": {
      "text/html": [
       "<div style=\"max-height:1000px;max-width:1500px;overflow:auto;\">\n",
       "<table border=\"1\" class=\"dataframe\">\n",
       "  <thead>\n",
       "    <tr style=\"text-align: right;\">\n",
       "      <th></th>\n",
       "      <th>Date_time</th>\n",
       "      <th>Indegree</th>\n",
       "      <th>Message</th>\n",
       "      <th>Outdegree</th>\n",
       "      <th>Sentiment</th>\n",
       "    </tr>\n",
       "  </thead>\n",
       "  <tbody>\n",
       "    <tr>\n",
       "      <th>119966</th>\n",
       "      <td>2009-12-01</td>\n",
       "      <td>Dubslondoner</td>\n",
       "      <td>I'l do it 4 u when it's 2 do with Chelsea! Ju...</td>\n",
       "      <td>ebonyjknight</td>\n",
       "      <td>4</td>\n",
       "    </tr>\n",
       "    <tr>\n",
       "      <th>119968</th>\n",
       "      <td>2009-12-01</td>\n",
       "      <td>Gr8BigNerd</td>\n",
       "      <td>Aw . I supose I'l take the #Saints #Stelers S...</td>\n",
       "      <td>dejune17</td>\n",
       "      <td>0</td>\n",
       "    </tr>\n",
       "    <tr>\n",
       "      <th>119972</th>\n",
       "      <td>2009-12-01</td>\n",
       "      <td>itschelseastaub</td>\n",
       "      <td>URL - chelsea and nicole s2 super perfect! DI...</td>\n",
       "      <td>thay_k</td>\n",
       "      <td>4</td>\n",
       "    </tr>\n",
       "    <tr>\n",
       "      <th>119977</th>\n",
       "      <td>2009-12-01</td>\n",
       "      <td>gw3</td>\n",
       "      <td>Now that's funy. I suspect there are more tha...</td>\n",
       "      <td>bawldguy</td>\n",
       "      <td>4</td>\n",
       "    </tr>\n",
       "    <tr>\n",
       "      <th>119978</th>\n",
       "      <td>2009-12-01</td>\n",
       "      <td>AsianPersuazion</td>\n",
       "      <td>Thats amazing that ur working for the Yankes ...</td>\n",
       "      <td>nweiser09</td>\n",
       "      <td>4</td>\n",
       "    </tr>\n",
       "  </tbody>\n",
       "</table>\n",
       "</div>"
      ],
      "text/plain": [
       "         Date_time         Indegree  \\\n",
       "119966  2009-12-01     Dubslondoner   \n",
       "119968  2009-12-01       Gr8BigNerd   \n",
       "119972  2009-12-01  itschelseastaub   \n",
       "119977  2009-12-01              gw3   \n",
       "119978  2009-12-01  AsianPersuazion   \n",
       "\n",
       "                                                  Message     Outdegree  \\\n",
       "119966   I'l do it 4 u when it's 2 do with Chelsea! Ju...  ebonyjknight   \n",
       "119968   Aw . I supose I'l take the #Saints #Stelers S...      dejune17   \n",
       "119972   URL - chelsea and nicole s2 super perfect! DI...        thay_k   \n",
       "119977   Now that's funy. I suspect there are more tha...      bawldguy   \n",
       "119978   Thats amazing that ur working for the Yankes ...     nweiser09   \n",
       "\n",
       "        Sentiment  \n",
       "119966          4  \n",
       "119968          0  \n",
       "119972          4  \n",
       "119977          4  \n",
       "119978          4  "
      ]
     },
     "execution_count": 22,
     "metadata": {},
     "output_type": "execute_result"
    }
   ],
   "source": [
    "#first 5 columns of filtered december data-set rows\n",
    "indegr.head()"
   ]
  },
  {
   "cell_type": "code",
   "execution_count": 23,
   "metadata": {
    "collapsed": true
   },
   "outputs": [],
   "source": [
    "#the december data-set  select the indegree columns and convert to a series \n",
    "edges =indegr.Indegree"
   ]
  },
  {
   "cell_type": "code",
   "execution_count": 24,
   "metadata": {
    "collapsed": false
   },
   "outputs": [
    {
     "data": {
      "text/plain": [
       "119966       Dubslondoner\n",
       "119968         Gr8BigNerd\n",
       "119972    itschelseastaub\n",
       "Name: Indegree, dtype: object"
      ]
     },
     "execution_count": 24,
     "metadata": {},
     "output_type": "execute_result"
    }
   ],
   "source": [
    "#first three values of indegree\n",
    "edges[:3]"
   ]
  },
  {
   "cell_type": "code",
   "execution_count": 25,
   "metadata": {
    "collapsed": true
   },
   "outputs": [],
   "source": [
    "# series dataset of indegree of december data convert to list\n",
    "ed= edges.tolist()"
   ]
  },
  {
   "cell_type": "code",
   "execution_count": 26,
   "metadata": {
    "collapsed": false
   },
   "outputs": [
    {
     "data": {
      "text/plain": [
       "['Dubslondoner', 'Gr8BigNerd', 'itschelseastaub']"
      ]
     },
     "execution_count": 26,
     "metadata": {},
     "output_type": "execute_result"
    }
   ],
   "source": [
    "#first three values of the list\n",
    "ed[:3]"
   ]
  },
  {
   "cell_type": "code",
   "execution_count": 27,
   "metadata": {
    "collapsed": true
   },
   "outputs": [],
   "source": [
    "#select all rows that outdegree that has users that is on list in k\n",
    "mained = re.loc[re['Indegree'].isin(ed)]"
   ]
  },
  {
   "cell_type": "code",
   "execution_count": 28,
   "metadata": {
    "collapsed": false
   },
   "outputs": [
    {
     "data": {
      "text/html": [
       "<div style=\"max-height:1000px;max-width:1500px;overflow:auto;\">\n",
       "<table border=\"1\" class=\"dataframe\">\n",
       "  <thead>\n",
       "    <tr style=\"text-align: right;\">\n",
       "      <th></th>\n",
       "      <th>Date_time</th>\n",
       "      <th>Indegree</th>\n",
       "      <th>Message</th>\n",
       "      <th>Outdegree</th>\n",
       "      <th>Sentiment</th>\n",
       "    </tr>\n",
       "  </thead>\n",
       "  <tbody>\n",
       "    <tr>\n",
       "      <th>11</th>\n",
       "      <td>2009-06-1</td>\n",
       "      <td>QBKILA</td>\n",
       "      <td>was dancin with the stars years ago - nice fo...</td>\n",
       "      <td>mondaymorningqb</td>\n",
       "      <td>4</td>\n",
       "    </tr>\n",
       "    <tr>\n",
       "      <th>12</th>\n",
       "      <td>2009-06-1</td>\n",
       "      <td>michaelstrahan</td>\n",
       "      <td>was dancin with the stars years ago - nice fo...</td>\n",
       "      <td>mondaymorningqb</td>\n",
       "      <td>4</td>\n",
       "    </tr>\n",
       "    <tr>\n",
       "      <th>76</th>\n",
       "      <td>2009-06-12</td>\n",
       "      <td>qbkila</td>\n",
       "      <td>VIDEO: Young ready to play (again) - #nfl #cas...</td>\n",
       "      <td>mondaymorningqb</td>\n",
       "      <td>4</td>\n",
       "    </tr>\n",
       "  </tbody>\n",
       "</table>\n",
       "</div>"
      ],
      "text/plain": [
       "     Date_time        Indegree  \\\n",
       "11   2009-06-1          QBKILA   \n",
       "12   2009-06-1  michaelstrahan   \n",
       "76  2009-06-12          qbkila   \n",
       "\n",
       "                                              Message        Outdegree  \\\n",
       "11   was dancin with the stars years ago - nice fo...  mondaymorningqb   \n",
       "12   was dancin with the stars years ago - nice fo...  mondaymorningqb   \n",
       "76  VIDEO: Young ready to play (again) - #nfl #cas...  mondaymorningqb   \n",
       "\n",
       "    Sentiment  \n",
       "11          4  \n",
       "12          4  \n",
       "76          4  "
      ]
     },
     "execution_count": 28,
     "metadata": {},
     "output_type": "execute_result"
    }
   ],
   "source": [
    "#first three rows of data\n",
    "mained[:3]"
   ]
  },
  {
   "cell_type": "code",
   "execution_count": 29,
   "metadata": {
    "collapsed": false
   },
   "outputs": [
    {
     "data": {
      "text/plain": [
       "(5506, 5)"
      ]
     },
     "execution_count": 29,
     "metadata": {},
     "output_type": "execute_result"
    }
   ],
   "source": [
    "#shape of the filtered dataset\n",
    "mained.shape"
   ]
  },
  {
   "cell_type": "code",
   "execution_count": null,
   "metadata": {
    "collapsed": true
   },
   "outputs": [],
   "source": []
  },
  {
   "cell_type": "code",
   "execution_count": null,
   "metadata": {
    "collapsed": true
   },
   "outputs": [],
   "source": []
  },
  {
   "cell_type": "code",
   "execution_count": null,
   "metadata": {
    "collapsed": true
   },
   "outputs": [],
   "source": []
  }
 ],
 "metadata": {
  "kernelspec": {
   "display_name": "Python 2",
   "language": "python",
   "name": "python2"
  },
  "language_info": {
   "codemirror_mode": {
    "name": "ipython",
    "version": 2
   },
   "file_extension": ".py",
   "mimetype": "text/x-python",
   "name": "python",
   "nbconvert_exporter": "python",
   "pygments_lexer": "ipython2",
   "version": "2.7.10"
  }
 },
 "nbformat": 4,
 "nbformat_minor": 0
}
