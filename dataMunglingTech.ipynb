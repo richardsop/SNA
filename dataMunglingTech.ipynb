{
 "cells": [
  {
   "cell_type": "code",
   "execution_count": 54,
   "metadata": {
    "collapsed": true
   },
   "outputs": [],
   "source": [
    "import pandas as pd"
   ]
  },
  {
   "cell_type": "code",
   "execution_count": 70,
   "metadata": {
    "collapsed": false
   },
   "outputs": [],
   "source": [
    "dataTech = pd.read_csv(\"technologyDataset.csv\", header=0, quoting=0, delimiter=\",\")"
   ]
  },
  {
   "cell_type": "code",
   "execution_count": 58,
   "metadata": {
    "collapsed": false
   },
   "outputs": [
    {
     "data": {
      "text/plain": [
       "(152374, 5)"
      ]
     },
     "execution_count": 58,
     "metadata": {},
     "output_type": "execute_result"
    }
   ],
   "source": [
    "dataTech.shape"
   ]
  },
  {
   "cell_type": "code",
   "execution_count": 9,
   "metadata": {
    "collapsed": false
   },
   "outputs": [
    {
     "data": {
      "text/html": [
       "<div style=\"max-height:1000px;max-width:1500px;overflow:auto;\">\n",
       "<table border=\"1\" class=\"dataframe\">\n",
       "  <thead>\n",
       "    <tr style=\"text-align: right;\">\n",
       "      <th></th>\n",
       "      <th>Date_time</th>\n",
       "      <th>Indegree</th>\n",
       "      <th>Message</th>\n",
       "      <th>Outdegree</th>\n",
       "      <th>Sentiment</th>\n",
       "    </tr>\n",
       "  </thead>\n",
       "  <tbody>\n",
       "    <tr>\n",
       "      <th>155321</th>\n",
       "      <td>209-12-31</td>\n",
       "      <td>bonyface</td>\n",
       "      <td>godbye 209 don't let the dor hit you in the a...</td>\n",
       "      <td>paulshadwel</td>\n",
       "      <td>4</td>\n",
       "    </tr>\n",
       "    <tr>\n",
       "      <th>155322</th>\n",
       "      <td>209-12-31</td>\n",
       "      <td>XavierLanier</td>\n",
       "      <td>Hope to se at #CES 2010. I wil be ariving on F...</td>\n",
       "      <td>steven_james</td>\n",
       "      <td>4</td>\n",
       "    </tr>\n",
       "    <tr>\n",
       "      <th>155323</th>\n",
       "      <td>209-12-31</td>\n",
       "      <td>cindyloves7</td>\n",
       "      <td>download twetdeck and watch the video, it's a...</td>\n",
       "      <td>buzedition</td>\n",
       "      <td>4</td>\n",
       "    </tr>\n",
       "    <tr>\n",
       "      <th>155324</th>\n",
       "      <td>209-12-31</td>\n",
       "      <td>nazgul</td>\n",
       "      <td>the web says it \"launches at CES\" ie. in a fe...</td>\n",
       "      <td>eichin</td>\n",
       "      <td>0</td>\n",
       "    </tr>\n",
       "    <tr>\n",
       "      <th>155325</th>\n",
       "      <td>209-12-31</td>\n",
       "      <td>CesLSU</td>\n",
       "      <td>Oh Ces, my dear dear friend you are going to ...</td>\n",
       "      <td>marybeth6</td>\n",
       "      <td>0</td>\n",
       "    </tr>\n",
       "  </tbody>\n",
       "</table>\n",
       "</div>"
      ],
      "text/plain": [
       "        Date_time      Indegree  \\\n",
       "155321  209-12-31      bonyface   \n",
       "155322  209-12-31  XavierLanier   \n",
       "155323  209-12-31   cindyloves7   \n",
       "155324  209-12-31        nazgul   \n",
       "155325  209-12-31        CesLSU   \n",
       "\n",
       "                                                  Message     Outdegree  \\\n",
       "155321   godbye 209 don't let the dor hit you in the a...   paulshadwel   \n",
       "155322  Hope to se at #CES 2010. I wil be ariving on F...  steven_james   \n",
       "155323   download twetdeck and watch the video, it's a...    buzedition   \n",
       "155324   the web says it \"launches at CES\" ie. in a fe...        eichin   \n",
       "155325   Oh Ces, my dear dear friend you are going to ...     marybeth6   \n",
       "\n",
       "        Sentiment  \n",
       "155321          4  \n",
       "155322          4  \n",
       "155323          4  \n",
       "155324          0  \n",
       "155325          0  "
      ]
     },
     "execution_count": 9,
     "metadata": {},
     "output_type": "execute_result"
    }
   ],
   "source": [
    "datTech.tail()"
   ]
  },
  {
   "cell_type": "code",
   "execution_count": 59,
   "metadata": {
    "collapsed": false
   },
   "outputs": [],
   "source": [
    "dec = csv.loc[dataTech['Date_time'].str.contains(\"209-12-\")]"
   ]
  },
  {
   "cell_type": "code",
   "execution_count": 60,
   "metadata": {
    "collapsed": false
   },
   "outputs": [
    {
     "data": {
      "text/html": [
       "<div style=\"max-height:1000px;max-width:1500px;overflow:auto;\">\n",
       "<table border=\"1\" class=\"dataframe\">\n",
       "  <thead>\n",
       "    <tr style=\"text-align: right;\">\n",
       "      <th></th>\n",
       "      <th>Date_time</th>\n",
       "      <th>Indegree</th>\n",
       "      <th>Message</th>\n",
       "      <th>Outdegree</th>\n",
       "      <th>Sentiment</th>\n",
       "    </tr>\n",
       "  </thead>\n",
       "  <tbody>\n",
       "    <tr>\n",
       "      <th>139183</th>\n",
       "      <td>209-12-01</td>\n",
       "      <td>epynephrin</td>\n",
       "      <td>I have a palm pre, but I'm geting tired of pa...</td>\n",
       "      <td>0geneva</td>\n",
       "      <td>0</td>\n",
       "    </tr>\n",
       "    <tr>\n",
       "      <th>139184</th>\n",
       "      <td>209-12-01</td>\n",
       "      <td>JonathanEHod</td>\n",
       "      <td>What isue are you seing? Make sure you're upd...</td>\n",
       "      <td>jtranber</td>\n",
       "      <td>4</td>\n",
       "    </tr>\n",
       "    <tr>\n",
       "      <th>139185</th>\n",
       "      <td>209-12-01</td>\n",
       "      <td>avitania</td>\n",
       "      <td>Hah - I was trying out Twetdeck's new retwet ...</td>\n",
       "      <td>lynchseatle</td>\n",
       "      <td>4</td>\n",
       "    </tr>\n",
       "    <tr>\n",
       "      <th>139186</th>\n",
       "      <td>209-12-01</td>\n",
       "      <td>gorbitron</td>\n",
       "      <td>I got my Gogle Wave acount yesterday and I ha...</td>\n",
       "      <td>firethecanon</td>\n",
       "      <td>0</td>\n",
       "    </tr>\n",
       "    <tr>\n",
       "      <th>139187</th>\n",
       "      <td>209-12-01</td>\n",
       "      <td>girlgeks</td>\n",
       "      <td>oh my fracking god I just got ANOTHER ONE! Ma...</td>\n",
       "      <td>motoko_k</td>\n",
       "      <td>0</td>\n",
       "    </tr>\n",
       "  </tbody>\n",
       "</table>\n",
       "</div>"
      ],
      "text/plain": [
       "        Date_time      Indegree  \\\n",
       "139183  209-12-01    epynephrin   \n",
       "139184  209-12-01  JonathanEHod   \n",
       "139185  209-12-01      avitania   \n",
       "139186  209-12-01     gorbitron   \n",
       "139187  209-12-01      girlgeks   \n",
       "\n",
       "                                                  Message     Outdegree  \\\n",
       "139183   I have a palm pre, but I'm geting tired of pa...       0geneva   \n",
       "139184   What isue are you seing? Make sure you're upd...      jtranber   \n",
       "139185   Hah - I was trying out Twetdeck's new retwet ...   lynchseatle   \n",
       "139186   I got my Gogle Wave acount yesterday and I ha...  firethecanon   \n",
       "139187   oh my fracking god I just got ANOTHER ONE! Ma...      motoko_k   \n",
       "\n",
       "        Sentiment  \n",
       "139183          0  \n",
       "139184          4  \n",
       "139185          4  \n",
       "139186          0  \n",
       "139187          0  "
      ]
     },
     "execution_count": 60,
     "metadata": {},
     "output_type": "execute_result"
    }
   ],
   "source": [
    "dec.head()"
   ]
  },
  {
   "cell_type": "code",
   "execution_count": 39,
   "metadata": {
    "collapsed": false
   },
   "outputs": [],
   "source": [
    "t = dec.groupby(\"Outdegree\").size()"
   ]
  },
  {
   "cell_type": "code",
   "execution_count": 61,
   "metadata": {
    "collapsed": false
   },
   "outputs": [],
   "source": [
    "s= t[t>=6]"
   ]
  },
  {
   "cell_type": "code",
   "execution_count": 41,
   "metadata": {
    "collapsed": false
   },
   "outputs": [],
   "source": [
    "#s.to_csv(\"techoutdegreegreaterthan6.csv\")"
   ]
  },
  {
   "cell_type": "code",
   "execution_count": 63,
   "metadata": {
    "collapsed": false
   },
   "outputs": [],
   "source": [
    "threshhold = pd.read_csv(\"techoutdegreegreaterthan6.csv\", header=0, quoting=0, delimiter=\",\", error_bad_lines=False)"
   ]
  },
  {
   "cell_type": "code",
   "execution_count": 64,
   "metadata": {
    "collapsed": false
   },
   "outputs": [
    {
     "data": {
      "text/html": [
       "<div style=\"max-height:1000px;max-width:1500px;overflow:auto;\">\n",
       "<table border=\"1\" class=\"dataframe\">\n",
       "  <thead>\n",
       "    <tr style=\"text-align: right;\">\n",
       "      <th></th>\n",
       "      <th>Outdegree</th>\n",
       "      <th>Freq</th>\n",
       "    </tr>\n",
       "  </thead>\n",
       "  <tbody>\n",
       "    <tr>\n",
       "      <th>0</th>\n",
       "      <td>ankushkohli</td>\n",
       "      <td>23</td>\n",
       "    </tr>\n",
       "    <tr>\n",
       "      <th>1</th>\n",
       "      <td>buzedition</td>\n",
       "      <td>33</td>\n",
       "    </tr>\n",
       "    <tr>\n",
       "      <th>2</th>\n",
       "      <td>ciaobela50</td>\n",
       "      <td>6</td>\n",
       "    </tr>\n",
       "    <tr>\n",
       "      <th>3</th>\n",
       "      <td>dinunziodavide</td>\n",
       "      <td>26</td>\n",
       "    </tr>\n",
       "    <tr>\n",
       "      <th>4</th>\n",
       "      <td>drdon91</td>\n",
       "      <td>7</td>\n",
       "    </tr>\n",
       "  </tbody>\n",
       "</table>\n",
       "</div>"
      ],
      "text/plain": [
       "        Outdegree  Freq\n",
       "0     ankushkohli    23\n",
       "1      buzedition    33\n",
       "2      ciaobela50     6\n",
       "3  dinunziodavide    26\n",
       "4         drdon91     7"
      ]
     },
     "execution_count": 64,
     "metadata": {},
     "output_type": "execute_result"
    }
   ],
   "source": [
    "threshhold.head()"
   ]
  },
  {
   "cell_type": "code",
   "execution_count": 65,
   "metadata": {
    "collapsed": false
   },
   "outputs": [],
   "source": [
    "j =t.Outdegree"
   ]
  },
  {
   "cell_type": "code",
   "execution_count": null,
   "metadata": {
    "collapsed": true
   },
   "outputs": [],
   "source": []
  },
  {
   "cell_type": "code",
   "execution_count": 66,
   "metadata": {
    "collapsed": false
   },
   "outputs": [],
   "source": [
    "k= j.tolist()"
   ]
  },
  {
   "cell_type": "code",
   "execution_count": 67,
   "metadata": {
    "collapsed": false
   },
   "outputs": [
    {
     "data": {
      "text/plain": [
       "['ankushkohli',\n",
       " 'buzedition',\n",
       " 'ciaobela50',\n",
       " 'dinunziodavide',\n",
       " 'drdon91',\n",
       " 'femaleprodigy',\n",
       " 'getwhirled',\n",
       " 'jesrosenboks',\n",
       " 'jo_adelaide',\n",
       " 'josh347',\n",
       " 'joycescapade',\n",
       " 'justplainbil',\n",
       " 'krystynchong',\n",
       " 'kwright39',\n",
       " 'marketmetwets',\n",
       " 'mkayes',\n",
       " 'moneygraphics',\n",
       " 'morningwipe',\n",
       " 'moyelo',\n",
       " 'neverlevel',\n",
       " 'r4r',\n",
       " 'ragingbitch',\n",
       " 'scobleizer',\n",
       " 'shaqirhusyin',\n",
       " 'sherylowry',\n",
       " 'spreadingjoy',\n",
       " 'strandedwind',\n",
       " 'the_tech_update',\n",
       " 'tom_waren',\n",
       " 'vara41',\n",
       " 'vickyschultz',\n",
       " 'winobs',\n",
       " 'zenergyworks']"
      ]
     },
     "execution_count": 67,
     "metadata": {},
     "output_type": "execute_result"
    }
   ],
   "source": [
    "k"
   ]
  },
  {
   "cell_type": "code",
   "execution_count": 68,
   "metadata": {
    "collapsed": true
   },
   "outputs": [],
   "source": [
    "re = csv.loc[csv['Indegree'].isin(k)]"
   ]
  },
  {
   "cell_type": "code",
   "execution_count": 69,
   "metadata": {
    "collapsed": false
   },
   "outputs": [
    {
     "data": {
      "text/plain": [
       "(194, 5)"
      ]
     },
     "execution_count": 69,
     "metadata": {},
     "output_type": "execute_result"
    }
   ],
   "source": [
    "re.shape"
   ]
  },
  {
   "cell_type": "code",
   "execution_count": null,
   "metadata": {
    "collapsed": true
   },
   "outputs": [],
   "source": []
  },
  {
   "cell_type": "code",
   "execution_count": null,
   "metadata": {
    "collapsed": true
   },
   "outputs": [],
   "source": []
  },
  {
   "cell_type": "code",
   "execution_count": null,
   "metadata": {
    "collapsed": true
   },
   "outputs": [],
   "source": []
  },
  {
   "cell_type": "code",
   "execution_count": null,
   "metadata": {
    "collapsed": true
   },
   "outputs": [],
   "source": []
  },
  {
   "cell_type": "code",
   "execution_count": null,
   "metadata": {
    "collapsed": true
   },
   "outputs": [],
   "source": []
  }
 ],
 "metadata": {
  "kernelspec": {
   "display_name": "Python 2",
   "language": "python",
   "name": "python2"
  },
  "language_info": {
   "codemirror_mode": {
    "name": "ipython",
    "version": 2
   },
   "file_extension": ".py",
   "mimetype": "text/x-python",
   "name": "python",
   "nbconvert_exporter": "python",
   "pygments_lexer": "ipython2",
   "version": "2.7.10"
  }
 },
 "nbformat": 4,
 "nbformat_minor": 0
}
