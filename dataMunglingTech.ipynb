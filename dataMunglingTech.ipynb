{
 "cells": [
  {
   "cell_type": "code",
   "execution_count": 1,
   "metadata": {
    "collapsed": true
   },
   "outputs": [],
   "source": [
    "import pandas as pd"
   ]
  },
  {
   "cell_type": "code",
   "execution_count": 2,
   "metadata": {
    "collapsed": false
   },
   "outputs": [],
   "source": [
    "#read csv file\n",
    "dataP = pd.read_csv(\"technologyDataset.csv\", header=0, quoting=0, delimiter=\",\")"
   ]
  },
  {
   "cell_type": "code",
   "execution_count": 3,
   "metadata": {
    "collapsed": false
   },
   "outputs": [
    {
     "data": {
      "text/plain": [
       "(152374, 5)"
      ]
     },
     "execution_count": 3,
     "metadata": {},
     "output_type": "execute_result"
    }
   ],
   "source": [
    "#dimension of data\n",
    "dataP.shape"
   ]
  },
  {
   "cell_type": "code",
   "execution_count": 4,
   "metadata": {
    "collapsed": false
   },
   "outputs": [
    {
     "data": {
      "text/html": [
       "<div style=\"max-height:1000px;max-width:1500px;overflow:auto;\">\n",
       "<table border=\"1\" class=\"dataframe\">\n",
       "  <thead>\n",
       "    <tr style=\"text-align: right;\">\n",
       "      <th></th>\n",
       "      <th>Date_time</th>\n",
       "      <th>Indegree</th>\n",
       "      <th>Message</th>\n",
       "      <th>Outdegree</th>\n",
       "      <th>Sentiment</th>\n",
       "    </tr>\n",
       "  </thead>\n",
       "  <tbody>\n",
       "    <tr>\n",
       "      <th>0</th>\n",
       "      <td>2009-06-1</td>\n",
       "      <td>engadget</td>\n",
       "      <td>#gadgets Archos anounces Archos9 Windows 7 tab...</td>\n",
       "      <td>m1h1m1</td>\n",
       "      <td>4</td>\n",
       "    </tr>\n",
       "    <tr>\n",
       "      <th>1</th>\n",
       "      <td>2009-06-1</td>\n",
       "      <td>jonhickman</td>\n",
       "      <td>love that someones twetdeck went of at 0:4 an...</td>\n",
       "      <td>brumy_dan</td>\n",
       "      <td>4</td>\n",
       "    </tr>\n",
       "    <tr>\n",
       "      <th>2</th>\n",
       "      <td>2009-06-1</td>\n",
       "      <td>saca</td>\n",
       "      <td>Sory about the Iphone. Maybe it's to try the ...</td>\n",
       "      <td>jason_jasura</td>\n",
       "      <td>4</td>\n",
       "    </tr>\n",
       "    <tr>\n",
       "      <th>3</th>\n",
       "      <td>2009-06-1</td>\n",
       "      <td>digprof</td>\n",
       "      <td>there are a number of new features in Atendan...</td>\n",
       "      <td>davered</td>\n",
       "      <td>4</td>\n",
       "    </tr>\n",
       "    <tr>\n",
       "      <th>4</th>\n",
       "      <td>2009-06-1</td>\n",
       "      <td>fritzg</td>\n",
       "      <td>gogle wave, as i se it, is like a lifestream ...</td>\n",
       "      <td>dtatusko</td>\n",
       "      <td>4</td>\n",
       "    </tr>\n",
       "  </tbody>\n",
       "</table>\n",
       "</div>"
      ],
      "text/plain": [
       "   Date_time    Indegree                                            Message  \\\n",
       "0  2009-06-1    engadget  #gadgets Archos anounces Archos9 Windows 7 tab...   \n",
       "1  2009-06-1  jonhickman   love that someones twetdeck went of at 0:4 an...   \n",
       "2  2009-06-1        saca   Sory about the Iphone. Maybe it's to try the ...   \n",
       "3  2009-06-1     digprof   there are a number of new features in Atendan...   \n",
       "4  2009-06-1      fritzg   gogle wave, as i se it, is like a lifestream ...   \n",
       "\n",
       "      Outdegree  Sentiment  \n",
       "0        m1h1m1          4  \n",
       "1     brumy_dan          4  \n",
       "2  jason_jasura          4  \n",
       "3       davered          4  \n",
       "4      dtatusko          4  "
      ]
     },
     "execution_count": 4,
     "metadata": {},
     "output_type": "execute_result"
    }
   ],
   "source": [
    "#first 5 rows of data\n",
    "dataP.head()"
   ]
  },
  {
   "cell_type": "code",
   "execution_count": 5,
   "metadata": {
    "collapsed": false
   },
   "outputs": [
    {
     "data": {
      "text/html": [
       "<div style=\"max-height:1000px;max-width:1500px;overflow:auto;\">\n",
       "<table border=\"1\" class=\"dataframe\">\n",
       "  <thead>\n",
       "    <tr style=\"text-align: right;\">\n",
       "      <th></th>\n",
       "      <th>Date_time</th>\n",
       "      <th>Indegree</th>\n",
       "      <th>Message</th>\n",
       "      <th>Outdegree</th>\n",
       "      <th>Sentiment</th>\n",
       "    </tr>\n",
       "  </thead>\n",
       "  <tbody>\n",
       "    <tr>\n",
       "      <th>152369</th>\n",
       "      <td>2009-12-31</td>\n",
       "      <td>bonyface</td>\n",
       "      <td>godbye 209 don't let the dor hit you in the a...</td>\n",
       "      <td>paulshadwel</td>\n",
       "      <td>4</td>\n",
       "    </tr>\n",
       "    <tr>\n",
       "      <th>152370</th>\n",
       "      <td>2009-12-31</td>\n",
       "      <td>XavierLanier</td>\n",
       "      <td>Hope to se at #CES 2010. I wil be ariving on F...</td>\n",
       "      <td>steven_james</td>\n",
       "      <td>4</td>\n",
       "    </tr>\n",
       "    <tr>\n",
       "      <th>152371</th>\n",
       "      <td>2009-12-31</td>\n",
       "      <td>cindyloves7</td>\n",
       "      <td>download twetdeck and watch the video, it's a...</td>\n",
       "      <td>buzedition</td>\n",
       "      <td>4</td>\n",
       "    </tr>\n",
       "    <tr>\n",
       "      <th>152372</th>\n",
       "      <td>2009-12-31</td>\n",
       "      <td>nazgul</td>\n",
       "      <td>the web says it \"launches at CES\" ie. in a fe...</td>\n",
       "      <td>eichin</td>\n",
       "      <td>0</td>\n",
       "    </tr>\n",
       "    <tr>\n",
       "      <th>152373</th>\n",
       "      <td>2009-12-31</td>\n",
       "      <td>CesLSU</td>\n",
       "      <td>Oh Ces, my dear dear friend you are going to ...</td>\n",
       "      <td>marybeth6</td>\n",
       "      <td>0</td>\n",
       "    </tr>\n",
       "  </tbody>\n",
       "</table>\n",
       "</div>"
      ],
      "text/plain": [
       "         Date_time      Indegree  \\\n",
       "152369  2009-12-31      bonyface   \n",
       "152370  2009-12-31  XavierLanier   \n",
       "152371  2009-12-31   cindyloves7   \n",
       "152372  2009-12-31        nazgul   \n",
       "152373  2009-12-31        CesLSU   \n",
       "\n",
       "                                                  Message     Outdegree  \\\n",
       "152369   godbye 209 don't let the dor hit you in the a...   paulshadwel   \n",
       "152370  Hope to se at #CES 2010. I wil be ariving on F...  steven_james   \n",
       "152371   download twetdeck and watch the video, it's a...    buzedition   \n",
       "152372   the web says it \"launches at CES\" ie. in a fe...        eichin   \n",
       "152373   Oh Ces, my dear dear friend you are going to ...     marybeth6   \n",
       "\n",
       "        Sentiment  \n",
       "152369          4  \n",
       "152370          4  \n",
       "152371          4  \n",
       "152372          0  \n",
       "152373          0  "
      ]
     },
     "execution_count": 5,
     "metadata": {},
     "output_type": "execute_result"
    }
   ],
   "source": [
    "#last 5 rows of data\n",
    "dataP.tail()"
   ]
  },
  {
   "cell_type": "code",
   "execution_count": 6,
   "metadata": {
    "collapsed": false
   },
   "outputs": [],
   "source": [
    "#select all rows from date_time column that starts with \"2009-12-\"\n",
    "dec = dataP.loc[dataP['Date_time'].str.contains(\"2009-12-\")]"
   ]
  },
  {
   "cell_type": "code",
   "execution_count": 7,
   "metadata": {
    "collapsed": false
   },
   "outputs": [
    {
     "data": {
      "text/html": [
       "<div style=\"max-height:1000px;max-width:1500px;overflow:auto;\">\n",
       "<table border=\"1\" class=\"dataframe\">\n",
       "  <thead>\n",
       "    <tr style=\"text-align: right;\">\n",
       "      <th></th>\n",
       "      <th>Date_time</th>\n",
       "      <th>Indegree</th>\n",
       "      <th>Message</th>\n",
       "      <th>Outdegree</th>\n",
       "      <th>Sentiment</th>\n",
       "    </tr>\n",
       "  </thead>\n",
       "  <tbody>\n",
       "    <tr>\n",
       "      <th>139183</th>\n",
       "      <td>2009-12-01</td>\n",
       "      <td>epynephrin</td>\n",
       "      <td>I have a palm pre, but I'm geting tired of pa...</td>\n",
       "      <td>0geneva</td>\n",
       "      <td>0</td>\n",
       "    </tr>\n",
       "    <tr>\n",
       "      <th>139184</th>\n",
       "      <td>2009-12-01</td>\n",
       "      <td>JonathanEHod</td>\n",
       "      <td>What isue are you seing? Make sure you're upd...</td>\n",
       "      <td>jtranber</td>\n",
       "      <td>4</td>\n",
       "    </tr>\n",
       "    <tr>\n",
       "      <th>139185</th>\n",
       "      <td>2009-12-01</td>\n",
       "      <td>avitania</td>\n",
       "      <td>Hah - I was trying out Twetdeck's new retwet ...</td>\n",
       "      <td>lynchseatle</td>\n",
       "      <td>4</td>\n",
       "    </tr>\n",
       "    <tr>\n",
       "      <th>139186</th>\n",
       "      <td>2009-12-01</td>\n",
       "      <td>gorbitron</td>\n",
       "      <td>I got my Gogle Wave acount yesterday and I ha...</td>\n",
       "      <td>firethecanon</td>\n",
       "      <td>0</td>\n",
       "    </tr>\n",
       "    <tr>\n",
       "      <th>139187</th>\n",
       "      <td>2009-12-01</td>\n",
       "      <td>girlgeks</td>\n",
       "      <td>oh my fracking god I just got ANOTHER ONE! Ma...</td>\n",
       "      <td>motoko_k</td>\n",
       "      <td>0</td>\n",
       "    </tr>\n",
       "  </tbody>\n",
       "</table>\n",
       "</div>"
      ],
      "text/plain": [
       "         Date_time      Indegree  \\\n",
       "139183  2009-12-01    epynephrin   \n",
       "139184  2009-12-01  JonathanEHod   \n",
       "139185  2009-12-01      avitania   \n",
       "139186  2009-12-01     gorbitron   \n",
       "139187  2009-12-01      girlgeks   \n",
       "\n",
       "                                                  Message     Outdegree  \\\n",
       "139183   I have a palm pre, but I'm geting tired of pa...       0geneva   \n",
       "139184   What isue are you seing? Make sure you're upd...      jtranber   \n",
       "139185   Hah - I was trying out Twetdeck's new retwet ...   lynchseatle   \n",
       "139186   I got my Gogle Wave acount yesterday and I ha...  firethecanon   \n",
       "139187   oh my fracking god I just got ANOTHER ONE! Ma...      motoko_k   \n",
       "\n",
       "        Sentiment  \n",
       "139183          0  \n",
       "139184          4  \n",
       "139185          4  \n",
       "139186          0  \n",
       "139187          0  "
      ]
     },
     "execution_count": 7,
     "metadata": {},
     "output_type": "execute_result"
    }
   ],
   "source": [
    "#first 5 rows of data\n",
    "dec.head()"
   ]
  },
  {
   "cell_type": "code",
   "execution_count": 8,
   "metadata": {
    "collapsed": false
   },
   "outputs": [],
   "source": [
    "#group the data-set by outdegree coloumn by the size to a new dataframe\n",
    "t = dec.groupby(\"Outdegree\").size()"
   ]
  },
  {
   "cell_type": "code",
   "execution_count": 9,
   "metadata": {
    "collapsed": false
   },
   "outputs": [
    {
     "data": {
      "text/plain": [
       "Outdegree\n",
       "0317        1\n",
       "0402sgrl    1\n",
       "0geneva     1\n",
       "dtype: int64"
      ]
     },
     "execution_count": 9,
     "metadata": {},
     "output_type": "execute_result"
    }
   ],
   "source": [
    "# first three values of data\n",
    "t[:3]"
   ]
  },
  {
   "cell_type": "code",
   "execution_count": 10,
   "metadata": {
    "collapsed": false
   },
   "outputs": [],
   "source": [
    "#select/filter all users with a conversation greater than or equal to 6\n",
    "s= t[t>=2]"
   ]
  },
  {
   "cell_type": "code",
   "execution_count": 11,
   "metadata": {
    "collapsed": false
   },
   "outputs": [
    {
     "data": {
      "text/plain": [
       "Outdegree\n",
       "1234hoty    3\n",
       "173sud      4\n",
       "1rick       4\n",
       "dtype: int64"
      ]
     },
     "execution_count": 11,
     "metadata": {},
     "output_type": "execute_result"
    }
   ],
   "source": [
    "# first three values of data\n",
    "s[:3]"
   ]
  },
  {
   "cell_type": "code",
   "execution_count": 12,
   "metadata": {
    "collapsed": false
   },
   "outputs": [],
   "source": [
    "#s.to_csv(\"techoutdegreegreaterthan2.csv\")"
   ]
  },
  {
   "cell_type": "code",
   "execution_count": 13,
   "metadata": {
    "collapsed": false
   },
   "outputs": [],
   "source": [
    "t = pd.read_csv(\"techoutdegreegreaterthan2.csv\", header=0, quoting=0, delimiter=\",\", error_bad_lines=False)"
   ]
  },
  {
   "cell_type": "code",
   "execution_count": 14,
   "metadata": {
    "collapsed": false
   },
   "outputs": [
    {
     "data": {
      "text/html": [
       "<div style=\"max-height:1000px;max-width:1500px;overflow:auto;\">\n",
       "<table border=\"1\" class=\"dataframe\">\n",
       "  <thead>\n",
       "    <tr style=\"text-align: right;\">\n",
       "      <th></th>\n",
       "      <th>Outdegree</th>\n",
       "      <th>Freq</th>\n",
       "    </tr>\n",
       "  </thead>\n",
       "  <tbody>\n",
       "    <tr>\n",
       "      <th>0</th>\n",
       "      <td>1234hoty</td>\n",
       "      <td>3</td>\n",
       "    </tr>\n",
       "    <tr>\n",
       "      <th>1</th>\n",
       "      <td>173sud</td>\n",
       "      <td>4</td>\n",
       "    </tr>\n",
       "    <tr>\n",
       "      <th>2</th>\n",
       "      <td>1rick</td>\n",
       "      <td>4</td>\n",
       "    </tr>\n",
       "    <tr>\n",
       "      <th>3</th>\n",
       "      <td>21bieberfever</td>\n",
       "      <td>2</td>\n",
       "    </tr>\n",
       "    <tr>\n",
       "      <th>4</th>\n",
       "      <td>24k</td>\n",
       "      <td>3</td>\n",
       "    </tr>\n",
       "  </tbody>\n",
       "</table>\n",
       "</div>"
      ],
      "text/plain": [
       "       Outdegree  Freq\n",
       "0       1234hoty     3\n",
       "1         173sud     4\n",
       "2          1rick     4\n",
       "3  21bieberfever     2\n",
       "4            24k     3"
      ]
     },
     "execution_count": 14,
     "metadata": {},
     "output_type": "execute_result"
    }
   ],
   "source": [
    "#first 5 columns of selected conversation of a threshold of 6\n",
    "t.head()"
   ]
  },
  {
   "cell_type": "code",
   "execution_count": null,
   "metadata": {
    "collapsed": true
   },
   "outputs": [],
   "source": []
  },
  {
   "cell_type": "code",
   "execution_count": 15,
   "metadata": {
    "collapsed": false
   },
   "outputs": [],
   "source": [
    "#convert the column outdegree to series\n",
    "j =t.Outdegree"
   ]
  },
  {
   "cell_type": "code",
   "execution_count": 16,
   "metadata": {
    "collapsed": false
   },
   "outputs": [
    {
     "data": {
      "text/plain": [
       "0    1234hoty\n",
       "1      173sud\n",
       "2       1rick\n",
       "Name: Outdegree, dtype: object"
      ]
     },
     "execution_count": 16,
     "metadata": {},
     "output_type": "execute_result"
    }
   ],
   "source": [
    "# first three values of outdegree\n",
    "j[:3]"
   ]
  },
  {
   "cell_type": "code",
   "execution_count": 17,
   "metadata": {
    "collapsed": false
   },
   "outputs": [],
   "source": [
    "# convert series data-set to a list\n",
    "k= j.tolist()"
   ]
  },
  {
   "cell_type": "code",
   "execution_count": 18,
   "metadata": {
    "collapsed": false
   },
   "outputs": [
    {
     "data": {
      "text/plain": [
       "['1234hoty', '173sud', '1rick']"
      ]
     },
     "execution_count": 18,
     "metadata": {},
     "output_type": "execute_result"
    }
   ],
   "source": [
    "# first three values of list\n",
    "k[:3]"
   ]
  },
  {
   "cell_type": "code",
   "execution_count": 19,
   "metadata": {
    "collapsed": true
   },
   "outputs": [],
   "source": [
    "#select all rows that outdegree that has users that is on list in k\n",
    "re = dataP.loc[dataP['Outdegree'].isin(k)]"
   ]
  },
  {
   "cell_type": "code",
   "execution_count": 20,
   "metadata": {
    "collapsed": false
   },
   "outputs": [
    {
     "data": {
      "text/plain": [
       "(7876, 5)"
      ]
     },
     "execution_count": 20,
     "metadata": {},
     "output_type": "execute_result"
    }
   ],
   "source": [
    "#shape of the filtered dataset\n",
    "re.shape"
   ]
  },
  {
   "cell_type": "code",
   "execution_count": 21,
   "metadata": {
    "collapsed": false
   },
   "outputs": [
    {
     "data": {
      "text/html": [
       "<div style=\"max-height:1000px;max-width:1500px;overflow:auto;\">\n",
       "<table border=\"1\" class=\"dataframe\">\n",
       "  <thead>\n",
       "    <tr style=\"text-align: right;\">\n",
       "      <th></th>\n",
       "      <th>Date_time</th>\n",
       "      <th>Indegree</th>\n",
       "      <th>Message</th>\n",
       "      <th>Outdegree</th>\n",
       "      <th>Sentiment</th>\n",
       "    </tr>\n",
       "  </thead>\n",
       "  <tbody>\n",
       "    <tr>\n",
       "      <th>67</th>\n",
       "      <td>2009-06-1</td>\n",
       "      <td>inafried)</td>\n",
       "      <td>Who wins, loses with browser-les Windows 7 | B...</td>\n",
       "      <td>tm_technology</td>\n",
       "      <td>4</td>\n",
       "    </tr>\n",
       "    <tr>\n",
       "      <th>89</th>\n",
       "      <td>2009-06-12</td>\n",
       "      <td>Evernote</td>\n",
       "      <td>The ap for Palm Pre loks great: URL Thanks for...</td>\n",
       "      <td>cra1g</td>\n",
       "      <td>4</td>\n",
       "    </tr>\n",
       "    <tr>\n",
       "      <th>90</th>\n",
       "      <td>2009-06-12</td>\n",
       "      <td>palmsolo</td>\n",
       "      <td>The ap for Palm Pre loks great: URL Thanks for...</td>\n",
       "      <td>cra1g</td>\n",
       "      <td>4</td>\n",
       "    </tr>\n",
       "    <tr>\n",
       "      <th>94</th>\n",
       "      <td>2009-06-12</td>\n",
       "      <td>APCmag)</td>\n",
       "      <td>APC: Windows 7 takes a final leak URL (via )</td>\n",
       "      <td>gary_whelhouse</td>\n",
       "      <td>4</td>\n",
       "    </tr>\n",
       "    <tr>\n",
       "      <th>117</th>\n",
       "      <td>2009-06-12</td>\n",
       "      <td>jamesbritonjr)</td>\n",
       "      <td>Gizmodo - OS X Snow Leopard vs. Windows 7: The...</td>\n",
       "      <td>tm_technology</td>\n",
       "      <td>0</td>\n",
       "    </tr>\n",
       "  </tbody>\n",
       "</table>\n",
       "</div>"
      ],
      "text/plain": [
       "      Date_time        Indegree  \\\n",
       "67    2009-06-1       inafried)   \n",
       "89   2009-06-12        Evernote   \n",
       "90   2009-06-12        palmsolo   \n",
       "94   2009-06-12         APCmag)   \n",
       "117  2009-06-12  jamesbritonjr)   \n",
       "\n",
       "                                               Message       Outdegree  \\\n",
       "67   Who wins, loses with browser-les Windows 7 | B...   tm_technology   \n",
       "89   The ap for Palm Pre loks great: URL Thanks for...           cra1g   \n",
       "90   The ap for Palm Pre loks great: URL Thanks for...           cra1g   \n",
       "94        APC: Windows 7 takes a final leak URL (via )  gary_whelhouse   \n",
       "117  Gizmodo - OS X Snow Leopard vs. Windows 7: The...   tm_technology   \n",
       "\n",
       "     Sentiment  \n",
       "67           4  \n",
       "89           4  \n",
       "90           4  \n",
       "94           4  \n",
       "117          0  "
      ]
     },
     "execution_count": 21,
     "metadata": {},
     "output_type": "execute_result"
    }
   ],
   "source": [
    "#first 5 rows of filtered dataset\n",
    "re.head()"
   ]
  },
  {
   "cell_type": "code",
   "execution_count": null,
   "metadata": {
    "collapsed": true
   },
   "outputs": [],
   "source": []
  },
  {
   "cell_type": "code",
   "execution_count": 22,
   "metadata": {
    "collapsed": true
   },
   "outputs": [],
   "source": [
    "\"\"\"\" from the threshold dataset of users with conversations greater than 6, filter all rows in date_time that contains \n",
    "#2009-120\"\"\"\n",
    "\n",
    "indegr = re.loc[re['Date_time'].str.contains(\"2009-12-\")]"
   ]
  },
  {
   "cell_type": "code",
   "execution_count": 23,
   "metadata": {
    "collapsed": false
   },
   "outputs": [
    {
     "data": {
      "text/html": [
       "<div style=\"max-height:1000px;max-width:1500px;overflow:auto;\">\n",
       "<table border=\"1\" class=\"dataframe\">\n",
       "  <thead>\n",
       "    <tr style=\"text-align: right;\">\n",
       "      <th></th>\n",
       "      <th>Date_time</th>\n",
       "      <th>Indegree</th>\n",
       "      <th>Message</th>\n",
       "      <th>Outdegree</th>\n",
       "      <th>Sentiment</th>\n",
       "    </tr>\n",
       "  </thead>\n",
       "  <tbody>\n",
       "    <tr>\n",
       "      <th>139187</th>\n",
       "      <td>2009-12-01</td>\n",
       "      <td>girlgeks</td>\n",
       "      <td>oh my fracking god I just got ANOTHER ONE! Ma...</td>\n",
       "      <td>motoko_k</td>\n",
       "      <td>0</td>\n",
       "    </tr>\n",
       "    <tr>\n",
       "      <th>139204</th>\n",
       "      <td>2009-12-01</td>\n",
       "      <td>1litlebird</td>\n",
       "      <td>Congrats to who gave the most coments on my po...</td>\n",
       "      <td>ryjr</td>\n",
       "      <td>4</td>\n",
       "    </tr>\n",
       "    <tr>\n",
       "      <th>139207</th>\n",
       "      <td>2009-12-01</td>\n",
       "      <td>maty_silva</td>\n",
       "      <td>DO YOU WANT AN INVITE TO GOGLE WAVE? BECAUSE ...</td>\n",
       "      <td>then_word</td>\n",
       "      <td>0</td>\n",
       "    </tr>\n",
       "    <tr>\n",
       "      <th>139208</th>\n",
       "      <td>2009-12-01</td>\n",
       "      <td>sambear</td>\n",
       "      <td>DO YOU WANT AN INVITE TO GOGLE WAVE? BECAUSE ...</td>\n",
       "      <td>then_word</td>\n",
       "      <td>0</td>\n",
       "    </tr>\n",
       "    <tr>\n",
       "      <th>139209</th>\n",
       "      <td>2009-12-01</td>\n",
       "      <td>brirons</td>\n",
       "      <td>DO YOU WANT AN INVITE TO GOGLE WAVE? BECAUSE ...</td>\n",
       "      <td>then_word</td>\n",
       "      <td>0</td>\n",
       "    </tr>\n",
       "  </tbody>\n",
       "</table>\n",
       "</div>"
      ],
      "text/plain": [
       "         Date_time    Indegree  \\\n",
       "139187  2009-12-01    girlgeks   \n",
       "139204  2009-12-01  1litlebird   \n",
       "139207  2009-12-01  maty_silva   \n",
       "139208  2009-12-01     sambear   \n",
       "139209  2009-12-01     brirons   \n",
       "\n",
       "                                                  Message  Outdegree  \\\n",
       "139187   oh my fracking god I just got ANOTHER ONE! Ma...   motoko_k   \n",
       "139204  Congrats to who gave the most coments on my po...       ryjr   \n",
       "139207   DO YOU WANT AN INVITE TO GOGLE WAVE? BECAUSE ...  then_word   \n",
       "139208   DO YOU WANT AN INVITE TO GOGLE WAVE? BECAUSE ...  then_word   \n",
       "139209   DO YOU WANT AN INVITE TO GOGLE WAVE? BECAUSE ...  then_word   \n",
       "\n",
       "        Sentiment  \n",
       "139187          0  \n",
       "139204          4  \n",
       "139207          0  \n",
       "139208          0  \n",
       "139209          0  "
      ]
     },
     "execution_count": 23,
     "metadata": {},
     "output_type": "execute_result"
    }
   ],
   "source": [
    "#first 5 columns of filtered december data-set rows\n",
    "indegr.head()"
   ]
  },
  {
   "cell_type": "code",
   "execution_count": 24,
   "metadata": {
    "collapsed": true
   },
   "outputs": [],
   "source": [
    "#the december data-set  select the indegree columns and convert to a series \n",
    "edges =indegr.Indegree"
   ]
  },
  {
   "cell_type": "code",
   "execution_count": 25,
   "metadata": {
    "collapsed": false
   },
   "outputs": [
    {
     "data": {
      "text/plain": [
       "139187      girlgeks\n",
       "139204    1litlebird\n",
       "139207    maty_silva\n",
       "Name: Indegree, dtype: object"
      ]
     },
     "execution_count": 25,
     "metadata": {},
     "output_type": "execute_result"
    }
   ],
   "source": [
    "#first three values of indegree\n",
    "edges[:3]"
   ]
  },
  {
   "cell_type": "code",
   "execution_count": 26,
   "metadata": {
    "collapsed": true
   },
   "outputs": [],
   "source": [
    "# series dataset of indegree of december data convert to list\n",
    "ed= edges.tolist()"
   ]
  },
  {
   "cell_type": "code",
   "execution_count": 27,
   "metadata": {
    "collapsed": false
   },
   "outputs": [
    {
     "data": {
      "text/plain": [
       "['girlgeks', '1litlebird', 'maty_silva']"
      ]
     },
     "execution_count": 27,
     "metadata": {},
     "output_type": "execute_result"
    }
   ],
   "source": [
    "#first three values of the list\n",
    "ed[:3]"
   ]
  },
  {
   "cell_type": "code",
   "execution_count": 28,
   "metadata": {
    "collapsed": true
   },
   "outputs": [],
   "source": [
    "#select all rows that outdegree that has users that is on list in k\n",
    "mained = re.loc[re['Indegree'].isin(ed)]"
   ]
  },
  {
   "cell_type": "code",
   "execution_count": 29,
   "metadata": {
    "collapsed": false
   },
   "outputs": [
    {
     "data": {
      "text/html": [
       "<div style=\"max-height:1000px;max-width:1500px;overflow:auto;\">\n",
       "<table border=\"1\" class=\"dataframe\">\n",
       "  <thead>\n",
       "    <tr style=\"text-align: right;\">\n",
       "      <th></th>\n",
       "      <th>Date_time</th>\n",
       "      <th>Indegree</th>\n",
       "      <th>Message</th>\n",
       "      <th>Outdegree</th>\n",
       "      <th>Sentiment</th>\n",
       "    </tr>\n",
       "  </thead>\n",
       "  <tbody>\n",
       "    <tr>\n",
       "      <th>777</th>\n",
       "      <td>2009-06-15</td>\n",
       "      <td>macworld</td>\n",
       "      <td>Software: loks at riping and burning CDs with ...</td>\n",
       "      <td>forgetcomputers</td>\n",
       "      <td>4</td>\n",
       "    </tr>\n",
       "    <tr>\n",
       "      <th>781</th>\n",
       "      <td>2009-06-15</td>\n",
       "      <td>TwetDeck</td>\n",
       "      <td>Did this just hapen with after updating it? I...</td>\n",
       "      <td>cnc137</td>\n",
       "      <td>4</td>\n",
       "    </tr>\n",
       "    <tr>\n",
       "      <th>820</th>\n",
       "      <td>2009-06-16</td>\n",
       "      <td>TwetDeck</td>\n",
       "      <td>Sory if you think I'm having a moan, al I'd l...</td>\n",
       "      <td>markmcwiliams</td>\n",
       "      <td>4</td>\n",
       "    </tr>\n",
       "  </tbody>\n",
       "</table>\n",
       "</div>"
      ],
      "text/plain": [
       "      Date_time  Indegree                                            Message  \\\n",
       "777  2009-06-15  macworld  Software: loks at riping and burning CDs with ...   \n",
       "781  2009-06-15  TwetDeck   Did this just hapen with after updating it? I...   \n",
       "820  2009-06-16  TwetDeck   Sory if you think I'm having a moan, al I'd l...   \n",
       "\n",
       "           Outdegree  Sentiment  \n",
       "777  forgetcomputers          4  \n",
       "781           cnc137          4  \n",
       "820    markmcwiliams          4  "
      ]
     },
     "execution_count": 29,
     "metadata": {},
     "output_type": "execute_result"
    }
   ],
   "source": [
    "#first three rows of data\n",
    "mained[:3]"
   ]
  },
  {
   "cell_type": "code",
   "execution_count": 30,
   "metadata": {
    "collapsed": false
   },
   "outputs": [
    {
     "data": {
      "text/plain": [
       "(4863, 5)"
      ]
     },
     "execution_count": 30,
     "metadata": {},
     "output_type": "execute_result"
    }
   ],
   "source": [
    "#shape of the filtered dataset\n",
    "mained.shape"
   ]
  },
  {
   "cell_type": "code",
   "execution_count": null,
   "metadata": {
    "collapsed": true
   },
   "outputs": [],
   "source": []
  },
  {
   "cell_type": "code",
   "execution_count": null,
   "metadata": {
    "collapsed": true
   },
   "outputs": [],
   "source": []
  },
  {
   "cell_type": "code",
   "execution_count": null,
   "metadata": {
    "collapsed": true
   },
   "outputs": [],
   "source": []
  }
 ],
 "metadata": {
  "kernelspec": {
   "display_name": "Python 2",
   "language": "python",
   "name": "python2"
  },
  "language_info": {
   "codemirror_mode": {
    "name": "ipython",
    "version": 2
   },
   "file_extension": ".py",
   "mimetype": "text/x-python",
   "name": "python",
   "nbconvert_exporter": "python",
   "pygments_lexer": "ipython2",
   "version": "2.7.10"
  }
 },
 "nbformat": 4,
 "nbformat_minor": 0
}
